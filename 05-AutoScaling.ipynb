{
 "cells": [
  {
   "cell_type": "markdown",
   "metadata": {},
   "source": [
    "<center> \n",
    "<h3><b> Adnan Rashid </b><\\h3>\n",
    "<br><br>\n",
    "    <nav>\n",
    "    | <a href=\"00-Contents-Setup.ipynb\"> Home Page </a> | \n",
    "    <a href=\"http://bit.ly/cka_notes_original\"> Kubernetes Notes </a> |\n",
    "    <a href=\"https://adnan.study\"> Website </a> |\n",
    "    <a href=\"https://www.instagram.com/adnans_techie_studies/\"> Instagram </a> |\n",
    "    <a href=\"https://www.linkedin.com/in/adnanrashid1/\"> LinkedIn </a> |\n",
    "    </nav>\n",
    "</center>"
   ]
  },
  {
   "cell_type": "markdown",
   "metadata": {},
   "source": [
    "<h1 style=\"background:black\"><code style=\"background:black;color:white\"><center>Autoscaling Apps and Clusters with HPA and CA</center></code></h1>"
   ]
  },
  {
   "cell_type": "markdown",
   "metadata": {},
   "source": [
    "<div class=\"alert alert-block alert-warning\">\n",
    "<font style=\"color:black\">\n",
    "<center> We will go through patterns for scaling your worker nodes and application deployments automatically\n",
    "</div>\n",
    "</font>\n",
    "</center>"
   ]
  },
  {
   "cell_type": "markdown",
   "metadata": {},
   "source": [
    "<center><img src=\"https://adnanstudyimages.s3-eu-west-1.amazonaws.com/14.jpg\" width=\"40%\" height=\"40%\" border=5/>"
   ]
  },
  {
   "cell_type": "markdown",
   "metadata": {},
   "source": [
    "* [Configure Horizontal Pod AutoScaler (HPA)](#configurehpa)\n",
    "* [Scale an Application with HPA](#scalehpa)\n",
    "* [Configure Cluster Autoscaler](#configureca)\n",
    "* [Scale a Cluster with CA](#scalecluster)\n",
    "* [Cleanup](#cleanupclusterca)"
   ]
  },
  {
   "cell_type": "markdown",
   "metadata": {},
   "source": [
    "<blockquote>\n",
    "\n",
    "* <b> Horizontal Pod Autoscaler (HPA) </b> scales the pods in a deployment or replica set. It is implemented as a K8s API resource and a controller. The controller manager queries the resource utilization against the metrics specified in each HorizontalPodAutoscaler definition. It obtains the metrics from either the resource metrics API (for per-pod resource metrics), or the custom metrics API (for all other metrics).\n",
    "\n",
    "* <b> Cluster Autoscaler (CA) </b>  a component that automatically adjusts the size of a Kubernetes Cluster so that all pods have a place to run and there are no unneeded nodes."
   ]
  },
  {
   "cell_type": "markdown",
   "metadata": {},
   "source": [
    "* Video explaining horizontal pod autoscaling"
   ]
  },
  {
   "cell_type": "code",
   "execution_count": 58,
   "metadata": {},
   "outputs": [
    {
     "data": {
      "image/jpeg": "[encoded data removed]",
      "text/html": [
       "\n",
       "        <iframe\n",
       "            width=\"400\"\n",
       "            height=\"300\"\n",
       "            src=\"https://www.youtube.com/embed/Dor5xNHS_IY\"\n",
       "            frameborder=\"0\"\n",
       "            allowfullscreen\n",
       "        ></iframe>\n",
       "        "
      ],
      "text/plain": [
       "<IPython.lib.display.YouTubeVideo at 0x7fe0c8cff9a0>"
      ]
     },
     "execution_count": 58,
     "metadata": {},
     "output_type": "execute_result"
    }
   ],
   "source": [
    "from IPython.display import YouTubeVideo\n",
    "YouTubeVideo('Dor5xNHS_IY')"
   ]
  },
  {
   "cell_type": "markdown",
   "metadata": {},
   "source": [
    "## Pre-requisite"
   ]
  },
  {
   "cell_type": "markdown",
   "metadata": {},
   "source": [
    "* Check your variables are loaded"
   ]
  },
  {
   "cell_type": "code",
   "execution_count": null,
   "metadata": {},
   "outputs": [],
   "source": [
    "%store"
   ]
  },
  {
   "cell_type": "markdown",
   "metadata": {},
   "source": [
    "* Load in variable store"
   ]
  },
  {
   "cell_type": "code",
   "execution_count": null,
   "metadata": {},
   "outputs": [],
   "source": [
    "%store -r "
   ]
  },
  {
   "cell_type": "markdown",
   "metadata": {},
   "source": [
    "* Load variables into notebook"
   ]
  },
  {
   "cell_type": "code",
   "execution_count": null,
   "metadata": {},
   "outputs": [],
   "source": [
    "%env AWS_PROFILE=$AWS_PROFILE\n",
    "%env AWS_DEFAULT_REGION=$AWS_DEFAULT_REGION\n",
    "%env ACCOUNT_ID=$ACCOUNT_ID"
   ]
  },
  {
   "cell_type": "markdown",
   "metadata": {},
   "source": [
    "* Check identity "
   ]
  },
  {
   "cell_type": "code",
   "execution_count": null,
   "metadata": {},
   "outputs": [],
   "source": [
    "!aws sts get-caller-identity"
   ]
  },
  {
   "cell_type": "markdown",
   "metadata": {},
   "source": [
    "<br>"
   ]
  },
  {
   "cell_type": "markdown",
   "metadata": {},
   "source": [
    "---\n",
    "---"
   ]
  },
  {
   "cell_type": "markdown",
   "metadata": {},
   "source": [
    "<br>"
   ]
  },
  {
   "cell_type": "markdown",
   "metadata": {},
   "source": [
    "## Configure Horizontal Pod Autoscaler (HPA) <a class=\"anchor\" id=\"configurehpa\"></a>"
   ]
  },
  {
   "cell_type": "markdown",
   "metadata": {},
   "source": [
    "#### Deploy the Metrics Server "
   ]
  },
  {
   "cell_type": "markdown",
   "metadata": {},
   "source": [
    "Metrics Server is a scalable, efficient source of container resource metrics for Kubernetes built-in autoscaling pipelines. \n",
    "\n",
    "These metrics will drive the scaling behavior of the deployments "
   ]
  },
  {
   "cell_type": "markdown",
   "metadata": {},
   "source": [
    "* Create the metrics-service namespace first"
   ]
  },
  {
   "cell_type": "code",
   "execution_count": null,
   "metadata": {},
   "outputs": [],
   "source": [
    "!kubectl create namespace metrics"
   ]
  },
  {
   "cell_type": "markdown",
   "metadata": {},
   "source": [
    "* Deploy the metrics server using Helm "
   ]
  },
  {
   "cell_type": "code",
   "execution_count": null,
   "metadata": {},
   "outputs": [],
   "source": [
    "%%bash\n",
    "\n",
    "helm install metrics-server \\\n",
    "    stable/metrics-server \\\n",
    "    --version 2.9.0 \\\n",
    "    --namespace metrics"
   ]
  },
  {
   "cell_type": "markdown",
   "metadata": {},
   "source": [
    "* Verify the status of the metrics-server APIService "
   ]
  },
  {
   "cell_type": "code",
   "execution_count": null,
   "metadata": {},
   "outputs": [],
   "source": [
    "!kubectl get apiservice v1beta1.metrics.k8s.io -o yaml "
   ]
  },
  {
   "cell_type": "markdown",
   "metadata": {},
   "source": [
    "<br><br>We are now ready to scale a deployed application "
   ]
  },
  {
   "cell_type": "markdown",
   "metadata": {},
   "source": [
    "## <br><br>Scale an Application with HPA <a class=\"anchor\" id=\"scalehpa\"></a>"
   ]
  },
  {
   "cell_type": "markdown",
   "metadata": {},
   "source": [
    "#### Deploy a Sample App"
   ]
  },
  {
   "cell_type": "markdown",
   "metadata": {},
   "source": [
    "The app is a custom built image based on the php-apache image. \n",
    "\n",
    "The index.php page performs calculations to generate CPU load. \n",
    "\n",
    "* Deploy a sample app and expose as a service on TCP port 80"
   ]
  },
  {
   "cell_type": "code",
   "execution_count": null,
   "metadata": {},
   "outputs": [],
   "source": [
    "!kubectl create deployment php-apache --image=us.gcr.io/k8s-artifacts-prod/hpa-example\n",
    "!kubectl set resources deploy php-apache --requests=cpu=200m\n",
    "!kubectl expose deploy php-apache --port 80"
   ]
  },
  {
   "cell_type": "markdown",
   "metadata": {},
   "source": [
    "* View the pods for the php-apache application"
   ]
  },
  {
   "cell_type": "code",
   "execution_count": null,
   "metadata": {},
   "outputs": [],
   "source": [
    "!kubectl get pod -l app=php-apache"
   ]
  },
  {
   "cell_type": "markdown",
   "metadata": {},
   "source": [
    "### <br><br>Create an HPA Resource"
   ]
  },
  {
   "cell_type": "markdown",
   "metadata": {},
   "source": [
    "* This HPA Scales up when CPU exceeds 50% of the allocated container resource"
   ]
  },
  {
   "cell_type": "code",
   "execution_count": null,
   "metadata": {},
   "outputs": [],
   "source": [
    "!kubectl autoscale deployment php-apache --cpu-percent=50 --min=1 --max=10"
   ]
  },
  {
   "cell_type": "markdown",
   "metadata": {},
   "source": [
    "<bR>In the above the target average CPU utilisation is 50 \n",
    "\n",
    "The lower limit for the number of pods that can be set by the autoscaler is 1 and the upper limit is 10 "
   ]
  },
  {
   "cell_type": "markdown",
   "metadata": {},
   "source": [
    "* View the HPA using kubectl. You probably will see <b> unknown/50% </b> for 1-2 mins. Then you should be able to see <b>0%/50% </b>"
   ]
  },
  {
   "cell_type": "code",
   "execution_count": null,
   "metadata": {},
   "outputs": [],
   "source": [
    "!kubectl get hpa"
   ]
  },
  {
   "cell_type": "markdown",
   "metadata": {},
   "source": [
    "## <br><br>Generate load to trigger scaling"
   ]
  },
  {
   "cell_type": "markdown",
   "metadata": {},
   "source": [
    "* Run the following in a terminal as it is interactive"
   ]
  },
  {
   "cell_type": "markdown",
   "metadata": {},
   "source": [
    "<p style=\"background:black\">\n",
    "<code style=\"background:black;color:white\">> kubectl run -i --tty load-generator --image=busybox /bin/sh\n",
    "</code>\n",
    "</p>"
   ]
  },
  {
   "cell_type": "markdown",
   "metadata": {},
   "source": [
    "* If you need to connect for a second time for any reason "
   ]
  },
  {
   "cell_type": "markdown",
   "metadata": {},
   "source": [
    "<p style=\"background:black\">\n",
    "<code style=\"background:black;color:white\">> kubectl exec --stdin --tty load-generator -- /bin/bash\n",
    "</code>\n",
    "</p>"
   ]
  },
  {
   "cell_type": "markdown",
   "metadata": {},
   "source": [
    "* Run script to generate load in the terminal and return back here to continue to check the pods "
   ]
  },
  {
   "cell_type": "markdown",
   "metadata": {},
   "source": [
    "<p style=\"background:black\">\n",
    "<code style=\"background:black;color:white\">> while true; do wget -q -O - http://php-apache; done\n",
    "</code>\n",
    "</p>"
   ]
  },
  {
   "cell_type": "markdown",
   "metadata": {},
   "source": [
    "Check number of pods (you may need to execute the following cell a few times) \n",
    "\n",
    "* You will see HPA scale the pods from 1 to our configured maximum (10) until the CPU average is below our target (50%)"
   ]
  },
  {
   "cell_type": "code",
   "execution_count": null,
   "metadata": {},
   "outputs": [],
   "source": [
    "!kubectl get hpa"
   ]
  },
  {
   "cell_type": "markdown",
   "metadata": {},
   "source": [
    "You can now stop the terminal (Ctrl + C) \n",
    "\n",
    "You will notice that HPA will slowly bring the replica count to min number based on its configuration \n",
    "\n",
    "You should also get out of the load testing application by pressing Ctrl + D "
   ]
  },
  {
   "cell_type": "code",
   "execution_count": null,
   "metadata": {},
   "outputs": [],
   "source": [
    "!kubectl get hpa"
   ]
  },
  {
   "cell_type": "markdown",
   "metadata": {},
   "source": [
    "# <br><br>Configure Cluster AutoScaler (CA) <a class=\"anchor\" id=\"configureca\"></a>"
   ]
  },
  {
   "cell_type": "markdown",
   "metadata": {},
   "source": [
    "<blockquote> Cluster Autoscaler for AWS provides integration with Auto Scaling groups. It enables users to choose from four different options of deployment:\n",
    "\n",
    "* One Auto Scaling group - This is what we will use\n",
    "* Multiple Auto Scaling groups\n",
    "* Auto-Discovery\n",
    "* Master Node setup\n",
    "\n",
    "    \n",
    "Auto-Discovery is preferred method to configure Cluster Autoscaler. \n",
    "    \n",
    "Cluster Autoscaler will attempt to determine the CPU, memory and GPU resources provided by an Auto Scaling Group based on the instance type specified in its Launch Configuration or Launch Template. "
   ]
  },
  {
   "cell_type": "markdown",
   "metadata": {},
   "source": [
    "## <br><br>Configure the ASG"
   ]
  },
  {
   "cell_type": "markdown",
   "metadata": {},
   "source": [
    "You configure the size of your Auto Scaling group by setting the minimum, maximum and desired capacity.\n",
    "\n",
    "* When we created the cluster we set these settings to 3 "
   ]
  },
  {
   "cell_type": "code",
   "execution_count": null,
   "metadata": {},
   "outputs": [],
   "source": [
    "%%bash\n",
    "\n",
    "aws autoscaling \\\n",
    "    describe-auto-scaling-groups \\\n",
    "    --query \"AutoScalingGroups[? Tags[? (Key=='eks:cluster-name') && Value=='eksworkshop-eksctl']].[AutoScalingGroupName, MinSize, MaxSize,DesiredCapacity]\" \\\n",
    "    --output table"
   ]
  },
  {
   "cell_type": "markdown",
   "metadata": {},
   "source": [
    "* Get the ASG name"
   ]
  },
  {
   "cell_type": "code",
   "execution_count": null,
   "metadata": {},
   "outputs": [],
   "source": [
    "!aws autoscaling describe-auto-scaling-groups --query \"AutoScalingGroups[? Tags[? (Key=='eks:cluster-name') && Value=='eksworkshop-eksctl']].AutoScalingGroupName\" --output text"
   ]
  },
  {
   "cell_type": "markdown",
   "metadata": {},
   "source": [
    "* Set the environment variable"
   ]
  },
  {
   "cell_type": "code",
   "execution_count": null,
   "metadata": {},
   "outputs": [],
   "source": [
    "%env ASG_NAME=<INSERT ABOVE VALUE>"
   ]
  },
  {
   "cell_type": "markdown",
   "metadata": {},
   "source": [
    "* Increase max capacity to 4 "
   ]
  },
  {
   "cell_type": "code",
   "execution_count": null,
   "metadata": {},
   "outputs": [],
   "source": [
    "%%bash\n",
    "aws autoscaling \\\n",
    "    update-auto-scaling-group \\\n",
    "    --auto-scaling-group-name ${ASG_NAME} \\\n",
    "    --min-size 3 \\\n",
    "    --desired-capacity 3 \\\n",
    "    --max-size 4"
   ]
  },
  {
   "cell_type": "markdown",
   "metadata": {},
   "source": [
    "* Check the new values "
   ]
  },
  {
   "cell_type": "code",
   "execution_count": null,
   "metadata": {},
   "outputs": [],
   "source": [
    "%%bash\n",
    "aws autoscaling \\\n",
    "    describe-auto-scaling-groups \\\n",
    "    --query \"AutoScalingGroups[? Tags[? (Key=='eks:cluster-name') && Value=='eksworkshop-eksctl']].[AutoScalingGroupName, MinSize, MaxSize,DesiredCapacity]\" \\\n",
    "    --output table"
   ]
  },
  {
   "cell_type": "markdown",
   "metadata": {},
   "source": [
    "## <br><br>IAM roles for service accounts "
   ]
  },
  {
   "cell_type": "markdown",
   "metadata": {},
   "source": [
    "<blockquote>IAM roles for service accounts on Amazon EKS clusters, you can associate an IAM role with a Kubernetes Service Account <br><br>\n",
    "This service account can then provide AWS permissions to the containers in any pod that uses that service account <br><br>\n",
    "<b>With this feature, you no longer need to provide extended permissions to the node IAM role so that pods on that node can call AWS APIs </b>"
   ]
  },
  {
   "cell_type": "markdown",
   "metadata": {},
   "source": [
    "* Enabling IAM roles for service accounts on your cluster "
   ]
  },
  {
   "cell_type": "code",
   "execution_count": null,
   "metadata": {},
   "outputs": [],
   "source": [
    "!eksctl utils associate-iam-oidc-provider --cluster eksworkshop-eksctl --approve"
   ]
  },
  {
   "cell_type": "markdown",
   "metadata": {},
   "source": [
    "* Creating an IAM policy for your service account that will allow your CA pod to interact with the autoscaling groups"
   ]
  },
  {
   "cell_type": "code",
   "execution_count": null,
   "metadata": {},
   "outputs": [],
   "source": [
    "!aws iam create-policy --policy-name k8s-asg-policy --policy-document file://cluster-autoscaler/k8s-asg-policy.json"
   ]
  },
  {
   "cell_type": "markdown",
   "metadata": {},
   "source": [
    "* Create an IAM role for the cluster-autoscaler Service Account in the kube-system namespace"
   ]
  },
  {
   "cell_type": "code",
   "execution_count": null,
   "metadata": {},
   "outputs": [],
   "source": [
    "%%bash\n",
    "eksctl create iamserviceaccount \\\n",
    "    --name cluster-autoscaler \\\n",
    "    --namespace kube-system \\\n",
    "    --cluster eksworkshop-eksctl \\\n",
    "    --attach-policy-arn \"arn:aws:iam::${ACCOUNT_ID}:policy/k8s-asg-policy\" \\\n",
    "    --approve \\\n",
    "    --override-existing-serviceaccounts"
   ]
  },
  {
   "cell_type": "markdown",
   "metadata": {},
   "source": [
    "* Make sure your service account with the ARN of the IAM role is annotated"
   ]
  },
  {
   "cell_type": "code",
   "execution_count": null,
   "metadata": {},
   "outputs": [],
   "source": [
    "!kubectl -n kube-system describe sa cluster-autoscaler"
   ]
  },
  {
   "cell_type": "markdown",
   "metadata": {},
   "source": [
    "## <br><br> Deploy the Cluster Autoscaler (CA)"
   ]
  },
  {
   "cell_type": "markdown",
   "metadata": {},
   "source": [
    "* Deploy the Cluster AutoScaler to your cluster"
   ]
  },
  {
   "cell_type": "code",
   "execution_count": null,
   "metadata": {},
   "outputs": [],
   "source": [
    "!kubectl apply -f cluster-autoscaler/cluster-autoscaler-autodiscover.yaml"
   ]
  },
  {
   "cell_type": "markdown",
   "metadata": {},
   "source": [
    "* To prevent CA from removing nodes where its own pod is running, we will add the <b>'cluster-autoscaler.kubernetes.io/safe-to-evict'</b> annotation to its deployment"
   ]
  },
  {
   "cell_type": "code",
   "execution_count": null,
   "metadata": {},
   "outputs": [],
   "source": [
    "%%bash\n",
    "\n",
    "kubectl -n kube-system \\\n",
    "annotate deployment.apps/cluster-autoscaler \\\n",
    "cluster-autoscaler.kubernetes.io/safe-to-evict=\"false\""
   ]
  },
  {
   "cell_type": "markdown",
   "metadata": {},
   "source": [
    "* Get the latest docker image available for our EKS version "
   ]
  },
  {
   "cell_type": "code",
   "execution_count": null,
   "metadata": {},
   "outputs": [],
   "source": [
    "!kubectl version --short | grep 'Server Version:' | sed 's/[^0-9.]*\\([0-9.]*\\).*/\\1/' | cut -d. -f1,2"
   ]
  },
  {
   "cell_type": "markdown",
   "metadata": {},
   "source": [
    "* Set Env Var"
   ]
  },
  {
   "cell_type": "code",
   "execution_count": null,
   "metadata": {},
   "outputs": [],
   "source": [
    "%env K8S_VERSION=1.17"
   ]
  },
  {
   "cell_type": "markdown",
   "metadata": {},
   "source": [
    "* AutoScaler Version "
   ]
  },
  {
   "cell_type": "code",
   "execution_count": null,
   "metadata": {},
   "outputs": [],
   "source": [
    "!curl -s \"https://api.github.com/repos/kubernetes/autoscaler/releases\" | grep '\"tag_name\":' | sed 's/.*-\\([0-9][0-9\\.]*\\).*/\\1/' | grep -m1 ${K8S_VERSION}"
   ]
  },
  {
   "cell_type": "markdown",
   "metadata": {},
   "source": [
    "* Set Env Var"
   ]
  },
  {
   "cell_type": "code",
   "execution_count": null,
   "metadata": {},
   "outputs": [],
   "source": [
    "%env AUTOSCALER_VERSION=1.17.3"
   ]
  },
  {
   "cell_type": "markdown",
   "metadata": {},
   "source": [
    "* Update the autoscaler image"
   ]
  },
  {
   "cell_type": "code",
   "execution_count": null,
   "metadata": {},
   "outputs": [],
   "source": [
    "%%bash\n",
    "\n",
    "kubectl -n kube-system \\\n",
    "    set image deployment.apps/cluster-autoscaler \\\n",
    "    cluster-autoscaler=us.gcr.io/k8s-artifacts-prod/autoscaling/cluster-autoscaler:v${AUTOSCALER_VERSION}"
   ]
  },
  {
   "cell_type": "markdown",
   "metadata": {},
   "source": [
    "* Watch the logs "
   ]
  },
  {
   "cell_type": "code",
   "execution_count": null,
   "metadata": {},
   "outputs": [],
   "source": [
    "!kubectl -n kube-system logs -f deployment/cluster-autoscaler"
   ]
  },
  {
   "cell_type": "markdown",
   "metadata": {},
   "source": [
    "<br><br>We are now ready to scale our cluster"
   ]
  },
  {
   "cell_type": "markdown",
   "metadata": {},
   "source": [
    "# <br><br> Scale a Cluster with CA <a class=\"anchor\" id=\"scalecluster\"></a>"
   ]
  },
  {
   "cell_type": "markdown",
   "metadata": {},
   "source": [
    "#### Deploy a Sample App"
   ]
  },
  {
   "cell_type": "markdown",
   "metadata": {},
   "source": [
    "* We will deploy an sample nginx application as a ReplicaSet of 1 Pod "
   ]
  },
  {
   "cell_type": "code",
   "execution_count": null,
   "metadata": {},
   "outputs": [],
   "source": [
    "!kubectl apply -f cluster-autoscaler/nginx.yaml"
   ]
  },
  {
   "cell_type": "code",
   "execution_count": null,
   "metadata": {},
   "outputs": [],
   "source": [
    "!kubectl get deployment/nginx-to-scaleout"
   ]
  },
  {
   "cell_type": "markdown",
   "metadata": {},
   "source": [
    "#### <br><br>Scale out ReplicaSet "
   ]
  },
  {
   "cell_type": "markdown",
   "metadata": {},
   "source": [
    "* Lets scale out the replicaset to 10 "
   ]
  },
  {
   "cell_type": "code",
   "execution_count": null,
   "metadata": {},
   "outputs": [],
   "source": [
    "!kubectl scale --replicas=10 deployment/nginx-to-scaleout"
   ]
  },
  {
   "cell_type": "markdown",
   "metadata": {},
   "source": [
    "* Some pods will be in the <b>'Pending'</b> state, which triggers the cluster-autoscaler to scale out the EC2 fleet."
   ]
  },
  {
   "cell_type": "code",
   "execution_count": null,
   "metadata": {},
   "outputs": [],
   "source": [
    "!kubectl get pods -l app=nginx -o wide"
   ]
  },
  {
   "cell_type": "markdown",
   "metadata": {},
   "source": [
    "* View the cluster-autoscaler logs\n",
    "\n",
    "Warning: This is really long, may be better to run in terminal"
   ]
  },
  {
   "cell_type": "code",
   "execution_count": null,
   "metadata": {},
   "outputs": [],
   "source": [
    "!kubectl -n kube-system logs -f deployment/cluster-autoscaler"
   ]
  },
  {
   "cell_type": "markdown",
   "metadata": {},
   "source": [
    "* Check AutoScaling groups are scaling by either looking at the AWS console or checking nodes"
   ]
  },
  {
   "cell_type": "code",
   "execution_count": null,
   "metadata": {},
   "outputs": [],
   "source": [
    "!kubectl get nodes"
   ]
  },
  {
   "cell_type": "markdown",
   "metadata": {},
   "source": [
    "## <br><br>Clean up <a class=\"anchor\" id=\"cleanupclusterca\"></a>"
   ]
  },
  {
   "cell_type": "code",
   "execution_count": null,
   "metadata": {},
   "outputs": [],
   "source": [
    "!kubectl delete -f cluster-autoscaler/nginx.yaml"
   ]
  },
  {
   "cell_type": "code",
   "execution_count": null,
   "metadata": {},
   "outputs": [],
   "source": [
    "!kubectl delete -f cluster-autoscaler/cluster-autoscaler-autodiscover.yaml"
   ]
  },
  {
   "cell_type": "code",
   "execution_count": null,
   "metadata": {},
   "outputs": [],
   "source": [
    "%%bash \n",
    "\n",
    "eksctl delete iamserviceaccount \\\n",
    "  --name cluster-autoscaler \\\n",
    "  --namespace kube-system \\\n",
    "  --cluster eksworkshop-eksctl \\\n",
    "  --wait\n",
    "\n",
    "aws autoscaling \\\n",
    "  update-auto-scaling-group \\\n",
    "  --auto-scaling-group-name ${ASG_NAME} \\\n",
    "  --min-size 3 \\\n",
    "  --desired-capacity 3 \\\n",
    "  --max-size 3\n"
   ]
  },
  {
   "cell_type": "code",
   "execution_count": null,
   "metadata": {},
   "outputs": [],
   "source": [
    "!kubectl delete hpa,svc php-apache\n",
    "!kubectl delete deployment php-apache\n",
    "!kubectl delete pod load-generator\n",
    "!kubectl delete ns metrics"
   ]
  },
  {
   "cell_type": "code",
   "execution_count": null,
   "metadata": {},
   "outputs": [],
   "source": [
    "!helm -n metrics uninstall metrics-server"
   ]
  }
 ],
 "metadata": {
  "kernelspec": {
   "display_name": "Python 3",
   "language": "python",
   "name": "python3"
  },
  "language_info": {
   "codemirror_mode": {
    "name": "ipython",
    "version": 3
   },
   "file_extension": ".py",
   "mimetype": "text/x-python",
   "name": "python",
   "nbconvert_exporter": "python",
   "pygments_lexer": "ipython3",
   "version": "3.8.3"
  }
 },
 "nbformat": 4,
 "nbformat_minor": 4
}
