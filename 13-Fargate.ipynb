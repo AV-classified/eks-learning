{
 "cells": [
  {
   "cell_type": "markdown",
   "metadata": {},
   "source": [
    "<center> \n",
    "<h2><b> Adnan Rashid </b></h2>\n",
    "    <nav>\n",
    "        <h3>\n",
    "    | <a href=\"00-Contents-Setup.ipynb\"> Home Page </a> | \n",
    "        <a href=\"http://bit.ly/cka_notes_original\"> Kubernetes Notes </a> |\n",
    "        <a href=\"https://adnan.study\"> Website </a> |\n",
    "        <a href=\"https://www.instagram.com/adnans_techie_studies/\"> Instagram </a> |\n",
    "        <a href=\"https://www.linkedin.com/in/adnanrashid1/\"> LinkedIn </a> |\n",
    "        </h3>\n",
    "    </nav>\n",
    "</center>"
   ]
  },
  {
   "cell_type": "markdown",
   "metadata": {},
   "source": [
    "<h1 style=\"background:black\"><code style=\"background:black;color:white\"><center>Deploying Microservices to EKS Fargate</center></code></h1>"
   ]
  },
  {
   "cell_type": "markdown",
   "metadata": {},
   "source": [
    "<div class=\"alert alert-block alert-warning\">\n",
    "<font style=\"color:black\">\n",
    "<center>In this section we will deploy the 2048 game on EKS Fargate and expose it to the internet using an ALB. \n",
    "</center>\n",
    "</font>\n",
    "</div>"
   ]
  },
  {
   "cell_type": "markdown",
   "metadata": {},
   "source": [
    "<center><img src=\"https://adnanstudyimages.s3-eu-west-1.amazonaws.com/26.jpg\" width=\"50%\" height=\"50%\" border=5/></center>"
   ]
  },
  {
   "cell_type": "markdown",
   "metadata": {},
   "source": [
    "<blockquote>Fargate is a technology that provides on-demand, right-sized compute capacity for containers. <br><Br>\n",
    "\n",
    "With AWS Fargate, you no longer have to provision, configure, or scale groups of virtual machines to run containers. \n",
    "\n",
    "This removes the need to choose server types, decide when to scale your node groups, or optimise cluster packing. \n",
    "\n",
    "You can control which pods start on Fargate and how they run with Fargate profiles, which are defined as part of the EKS cluster \n"
   ]
  },
  {
   "cell_type": "code",
   "execution_count": 42,
   "metadata": {},
   "outputs": [
    {
     "data": {
      "image/jpeg": "[encoded data removed]",
      "text/html": [
       "\n",
       "        <iframe\n",
       "            width=\"400\"\n",
       "            height=\"300\"\n",
       "            src=\"https://www.youtube.com/embed/m-3tMXmWWQw\"\n",
       "            frameborder=\"0\"\n",
       "            allowfullscreen\n",
       "        ></iframe>\n",
       "        "
      ],
      "text/plain": [
       "<IPython.lib.display.YouTubeVideo at 0x7f9d8a4cb1c0>"
      ]
     },
     "execution_count": 42,
     "metadata": {},
     "output_type": "execute_result"
    }
   ],
   "source": [
    "from IPython.display import YouTubeVideo\n",
    "YouTubeVideo('m-3tMXmWWQw')"
   ]
  },
  {
   "cell_type": "markdown",
   "metadata": {},
   "source": [
    "## Pre-requisite"
   ]
  },
  {
   "cell_type": "markdown",
   "metadata": {},
   "source": [
    "* Check your variables are loaded"
   ]
  },
  {
   "cell_type": "code",
   "execution_count": null,
   "metadata": {},
   "outputs": [],
   "source": [
    "%store"
   ]
  },
  {
   "cell_type": "markdown",
   "metadata": {},
   "source": [
    "* Load in variable store"
   ]
  },
  {
   "cell_type": "code",
   "execution_count": null,
   "metadata": {},
   "outputs": [],
   "source": [
    "%store -r "
   ]
  },
  {
   "cell_type": "markdown",
   "metadata": {},
   "source": [
    "* Load variables into notebook"
   ]
  },
  {
   "cell_type": "code",
   "execution_count": null,
   "metadata": {},
   "outputs": [],
   "source": [
    "%env AWS_PROFILE=$AWS_PROFILE\n",
    "%env AWS_DEFAULT_REGION=$AWS_DEFAULT_REGION\n",
    "%env ACCOUNT_ID=$ACCOUNT_ID"
   ]
  },
  {
   "cell_type": "markdown",
   "metadata": {},
   "source": [
    "* Check identity "
   ]
  },
  {
   "cell_type": "code",
   "execution_count": null,
   "metadata": {},
   "outputs": [],
   "source": [
    "!aws sts get-caller-identity"
   ]
  },
  {
   "cell_type": "markdown",
   "metadata": {},
   "source": [
    "<br>"
   ]
  },
  {
   "cell_type": "markdown",
   "metadata": {},
   "source": [
    "---\n",
    "---"
   ]
  },
  {
   "cell_type": "markdown",
   "metadata": {},
   "source": [
    "<br>"
   ]
  },
  {
   "cell_type": "markdown",
   "metadata": {},
   "source": [
    "AWS Fargate with Amazon EKS is currently only avaiable in specific regions \n",
    "\n",
    "* We can run the following to verify if AWS Fargate with EKS is available in the Region you choose to deploy your EKS cluster "
   ]
  },
  {
   "cell_type": "code",
   "execution_count": null,
   "metadata": {},
   "outputs": [],
   "source": [
    "%%bash\n",
    "\n",
    "if [[ $AWS_DEFAULT_REGION =~ ^(us-east-1|us-east-2|us-west-2|eu-west-1|eu-central-1|ap-southeast-1|ap-southeast-2|ap-northeast-1)$ ]]\n",
    "then\n",
    "  echo -e \"\\033[0;32mAWS Fargate with Amazon EKS is available in your Region.\"\n",
    "  echo \"You can continue this lab.\"\n",
    "else\n",
    "  echo -e \"\\033[0;31mAWS Fargate with Amazon EKS is not yet available in your Region ($AWS_REGION).\"\n",
    "  echo \"Deploy your cluster in one of the Regions mentioned above.\"\n",
    "fi"
   ]
  },
  {
   "cell_type": "markdown",
   "metadata": {},
   "source": [
    "## <br><br> Creating a Fargate Profile"
   ]
  },
  {
   "cell_type": "markdown",
   "metadata": {},
   "source": [
    "<blockquote> The fargate profile allows an administrator to declare which pods run on Fargate. \n",
    "Each profile can have upto 5 selectors that contain a <b>namespace</b> and optional <b>labels</b><br><br>\n",
    "\n",
    "You must define a namespace for every selector. <br>\n",
    "The label field consists of multiple optional key-value pairs. <br>\n",
    "Pods that match a selector (by matching a namespace for the selector and all of the labels specified in the selector) are scheduled on Fargate. \n",
    "\n",
    "It is generally a good practice to deploy user application workloads into namespaces other than <b>kube-system</b> or <b>default</b> so that you have more fine-grained capabilities to manage the interaction between your pods deployed on EKS. <br><br>\n",
    "\n",
    "You will now create a new Fargate profile named <b> applications</b> that targets all pods destined for the <b>fargate</b> namespace. "
   ]
  },
  {
   "cell_type": "markdown",
   "metadata": {},
   "source": [
    "#### <br><br>Create a Fargate profile"
   ]
  },
  {
   "cell_type": "code",
   "execution_count": null,
   "metadata": {},
   "outputs": [],
   "source": [
    "%%bash\n",
    "\n",
    "eksctl create fargateprofile \\\n",
    "  --cluster eksworkshop-eksctl \\\n",
    "  --name 2048-game \\\n",
    "  --namespace 2048-game"
   ]
  },
  {
   "cell_type": "markdown",
   "metadata": {},
   "source": [
    "Fargate profiles are immutable. However, you can create a new updated profile to replace an existing profile and then delete the original after the updated profile has finished creating \n",
    "\n",
    "When your EKS cluster schedules pods on Fargate, the pods will need to make calls to AWS APIs on your behalf to do things like pull container images from Amazon ECR. \n",
    "\n",
    "The Fargate <b>Pod Execution Role</b> provides the IAM permissions to do this. This IAM role is automatically created for you by the above command. "
   ]
  },
  {
   "cell_type": "markdown",
   "metadata": {},
   "source": [
    "Creation of a Fargate profile can take up to several minutes. \n",
    "\n",
    "* Execute the following command after the profile creation is completed "
   ]
  },
  {
   "cell_type": "code",
   "execution_count": null,
   "metadata": {},
   "outputs": [],
   "source": [
    "!eksctl get fargateprofile --cluster eksworkshop-eksctl -o yaml "
   ]
  },
  {
   "cell_type": "markdown",
   "metadata": {},
   "source": [
    "<br><br>\n",
    "\n",
    "Notice that the profile includes the private subnets in your EKS cluster. \n",
    "Pods running on Fargate are not assigned public IP addresses, so only private subnets (with no direct route to an Internet Gateway) are supported when you create a Fargate profile. <br><br>\n",
    "Hence, while provisioning an EKS cluster, you must make sure that the VPC that you create contains one or more private subnets. \n",
    "When you create an EKS cluster with eksctl utility, under the hoods it creates a VPC that meets these requirements. "
   ]
  },
  {
   "cell_type": "markdown",
   "metadata": {},
   "source": [
    "## <br><br> Deploying Pods to Fargate "
   ]
  },
  {
   "cell_type": "markdown",
   "metadata": {},
   "source": [
    "* Deploy the game 2048 as a sample application to verify that the ALB Ingress Controller creates an ALB as a result of the Ingress object. "
   ]
  },
  {
   "cell_type": "code",
   "execution_count": null,
   "metadata": {},
   "outputs": [],
   "source": [
    "!kubectl apply -f alb/2048/namespace.yaml\n",
    "!kubectl apply -f alb/2048/deployment.yaml\n",
    "!kubectl apply -f alb/2048/service.yaml"
   ]
  },
  {
   "cell_type": "markdown",
   "metadata": {},
   "source": [
    "* You can check if a Deployment has completed "
   ]
  },
  {
   "cell_type": "code",
   "execution_count": null,
   "metadata": {},
   "outputs": [],
   "source": [
    "!kubectl -n 2048-game rollout status deployment 2048-deployment "
   ]
  },
  {
   "cell_type": "markdown",
   "metadata": {},
   "source": [
    "* Run the following to list all the nodes in the EKS cluster"
   ]
  },
  {
   "cell_type": "code",
   "execution_count": null,
   "metadata": {},
   "outputs": [],
   "source": [
    "!kubectl get nodes"
   ]
  },
  {
   "cell_type": "markdown",
   "metadata": {},
   "source": [
    "<blockquote>If you cluster has any worker nodes, they will be listed with a name starting with <b>ip- </b> prefix. <br><Br>\n",
    "\n",
    "In addition to the worker nodes, if any, there will now be two additional 'fargate' nodes listed. \n",
    "\n",
    "These are merely kubelets from the microVMs in which your sample app pods are running under Fargate, posing as nodes to the EKS Control Plane. \n",
    "\n",
    "This is how the EKS Control Plane stays aware of the Fargate infrastructure under which the pods it orchestrates are running. \n",
    "\n",
    "There will be a 'fargate' node added to the cluster for each pod deployed on Fargate. "
   ]
  },
  {
   "cell_type": "markdown",
   "metadata": {},
   "source": [
    "<center><img src=\"https://www.percona.com/community-blog/wp-content/uploads/2018/10/kubernetes-mysql-operator.png\" width=\"60%\" height=\"60%\"/"
   ]
  },
  {
   "cell_type": "markdown",
   "metadata": {},
   "source": [
    "## Setup Pre-Requitesites for ALB  "
   ]
  },
  {
   "cell_type": "markdown",
   "metadata": {},
   "source": [
    "#### <br><br>Create an OIDC Provider "
   ]
  },
  {
   "cell_type": "markdown",
   "metadata": {},
   "source": [
    "First we will have to setup an OIDC provider with the cluster and create the IAM policy to be used by the ALB Ingress Controller. \n",
    "\n",
    "This step requires to give IAM permissions to a Fargate pod running in the cluster using the 'IAM for Service Accounts' feature. "
   ]
  },
  {
   "cell_type": "code",
   "execution_count": null,
   "metadata": {},
   "outputs": [],
   "source": [
    "%%bash \n",
    "\n",
    "eksctl utils associate-iam-oidc-provider \\\n",
    "  --cluster eksworkshop-eksctl \\\n",
    "  --region=$AWS_REGION \\\n",
    "  --approve"
   ]
  },
  {
   "cell_type": "markdown",
   "metadata": {},
   "source": [
    "#### <br><br> Create an IAM Policy for ALB Ingress "
   ]
  },
  {
   "cell_type": "markdown",
   "metadata": {},
   "source": [
    "The next step is to create the IAM poicy that will be used by the ALB Ingress Controller deployment. \n",
    "\n",
    "* This policy will be later associated to the Kubernetes Service Account and will allow the ALB Ingress Controller pods to create and manage the ALB's resources in your AWS account for you"
   ]
  },
  {
   "cell_type": "code",
   "execution_count": null,
   "metadata": {},
   "outputs": [],
   "source": [
    "%%bash \n",
    "\n",
    "aws iam create-policy \\\n",
    "  --policy-name ALBIngressControllerIAMPolicy \\\n",
    "  --policy-document file://alb/iam-policy.json\n"
   ]
  },
  {
   "cell_type": "markdown",
   "metadata": {},
   "source": [
    "#### <br><br> Creating Service Account"
   ]
  },
  {
   "cell_type": "markdown",
   "metadata": {},
   "source": [
    "* We need the policy's ARN to create the Service Account with proper permissions "
   ]
  },
  {
   "cell_type": "code",
   "execution_count": null,
   "metadata": {},
   "outputs": [],
   "source": [
    "!aws iam list-policies --query 'Policies[?PolicyName==`ALBIngressControllerIAMPolicy`].Arn' --output text"
   ]
  },
  {
   "cell_type": "code",
   "execution_count": null,
   "metadata": {},
   "outputs": [],
   "source": [
    "%env FARGATE_POLICY_ARN=arn:aws:iam::$ACCOUNT_ID:policy/ALBIngressControllerIAMPolicy"
   ]
  },
  {
   "cell_type": "markdown",
   "metadata": {},
   "source": [
    "* Next, create a Kubernetes Service Account by executing the following"
   ]
  },
  {
   "cell_type": "code",
   "execution_count": null,
   "metadata": {},
   "outputs": [],
   "source": [
    "%%bash \n",
    "\n",
    "eksctl create iamserviceaccount \\\n",
    "  --name alb-ingress-controller \\\n",
    "  --namespace 2048-game \\\n",
    "  --cluster eksworkshop-eksctl \\\n",
    "  --attach-policy-arn ${FARGATE_POLICY_ARN} \\\n",
    "  --approve \\\n",
    "  --override-existing-serviceaccounts"
   ]
  },
  {
   "cell_type": "markdown",
   "metadata": {},
   "source": [
    "<br><br>This deployed a CloudFormation template that creates an IAM role and attaches the IAM policy to it. The IAM role gets associated with a Kubernetes Service Account\n",
    "\n",
    "* You can see details of the service account created"
   ]
  },
  {
   "cell_type": "code",
   "execution_count": null,
   "metadata": {},
   "outputs": [],
   "source": [
    "!kubectl get sa alb-ingress-controller -n 2048-game -o yaml"
   ]
  },
  {
   "cell_type": "markdown",
   "metadata": {},
   "source": [
    "#### <br><br> Create RBAC Role "
   ]
  },
  {
   "cell_type": "markdown",
   "metadata": {},
   "source": [
    "* You will have to create a Cluster Role and Cluster Role Binding that grant requisite permissions to the Service Account you just created. "
   ]
  },
  {
   "cell_type": "code",
   "execution_count": null,
   "metadata": {},
   "outputs": [],
   "source": [
    "!kubectl apply -f alb/rbac-role.yaml "
   ]
  },
  {
   "cell_type": "markdown",
   "metadata": {},
   "source": [
    "## <br><br> Deploying ALB Ingress Controller "
   ]
  },
  {
   "cell_type": "markdown",
   "metadata": {},
   "source": [
    "We will use Helm to install the ALB Ingress Controller\n",
    "* Check if Helm is installed "
   ]
  },
  {
   "cell_type": "code",
   "execution_count": null,
   "metadata": {},
   "outputs": [],
   "source": [
    "!helm version "
   ]
  },
  {
   "cell_type": "markdown",
   "metadata": {},
   "source": [
    "* Add helm incubator repository"
   ]
  },
  {
   "cell_type": "code",
   "execution_count": null,
   "metadata": {},
   "outputs": [],
   "source": [
    "!helm repo add incubator http://storage.googleapis.com/kubernetes-charts-incubator"
   ]
  },
  {
   "cell_type": "code",
   "execution_count": null,
   "metadata": {},
   "outputs": [],
   "source": [
    "%%bash \n",
    "\n",
    "# Get the VPC ID\n",
    "export VPC_ID=$(aws eks describe-cluster --name eksworkshop-eksctl --query \"cluster.resourcesVpcConfig.vpcId\" --output text)\n",
    "\n",
    "\n",
    "helm --namespace 2048-game install 2048-game \\\n",
    "  incubator/aws-alb-ingress-controller \\\n",
    "  --set image.tag=v1.1.7 \\\n",
    "  --set awsRegion=${AWS_DEFAULT_REGION} \\\n",
    "  --set awsVpcID=${VPC_ID} \\\n",
    "  --set rbac.create=false \\\n",
    "  --set rbac.serviceAccount.name=alb-ingress-controller \\\n",
    "  --set clusterName=eksworkshop-eksctl\n"
   ]
  },
  {
   "cell_type": "markdown",
   "metadata": {},
   "source": [
    "* Verify the ingress controller has started "
   ]
  },
  {
   "cell_type": "code",
   "execution_count": null,
   "metadata": {},
   "outputs": [],
   "source": [
    "!kubectl --namespace=2048-game get pods -l \"app.kubernetes.io/name=aws-alb-ingress-controller,app.kubernetes.io/instance=2048-game\""
   ]
  },
  {
   "cell_type": "markdown",
   "metadata": {},
   "source": [
    "<br><br>\n",
    "* Execute the following command to watch the progress by looking at the deployment status "
   ]
  },
  {
   "cell_type": "code",
   "execution_count": null,
   "metadata": {},
   "outputs": [],
   "source": [
    "!kubectl -n 2048-game rollout status deployment 2048-game-aws-alb-ingress-controller"
   ]
  },
  {
   "cell_type": "markdown",
   "metadata": {},
   "source": [
    "* Get the pods "
   ]
  },
  {
   "cell_type": "code",
   "execution_count": null,
   "metadata": {},
   "outputs": [],
   "source": [
    "!kubectl get pods -n 2048-game"
   ]
  },
  {
   "cell_type": "markdown",
   "metadata": {},
   "source": [
    "* Patch the service to be of type 'Load Balancer'"
   ]
  },
  {
   "cell_type": "code",
   "execution_count": null,
   "metadata": {},
   "outputs": [],
   "source": [
    "!kubectl -n 2048-game patch svc service-2048 -p '{\"spec\": {\"type\": \"LoadBalancer\"}}'"
   ]
  },
  {
   "cell_type": "code",
   "execution_count": null,
   "metadata": {},
   "outputs": [],
   "source": [
    "!kubectl get service -n 2048-game"
   ]
  },
  {
   "cell_type": "markdown",
   "metadata": {},
   "source": [
    "## <br><br> Ingress "
   ]
  },
  {
   "cell_type": "markdown",
   "metadata": {},
   "source": [
    "The final step in exposing the 2048-game service through an ingress object. \n",
    "\n",
    "* As we target Fargate pod IPs and not EC2 instances, we add an annotation to the ingress to specify the target-type. "
   ]
  },
  {
   "cell_type": "code",
   "execution_count": null,
   "metadata": {},
   "outputs": [],
   "source": [
    "%env ALB_INGRESS_VERSION=1.1.7"
   ]
  },
  {
   "cell_type": "code",
   "execution_count": null,
   "metadata": {},
   "outputs": [],
   "source": [
    "!kubectl apply -f alb/2048/ingress-fargate.yaml"
   ]
  },
  {
   "cell_type": "markdown",
   "metadata": {},
   "source": [
    "<blockquote>\n",
    "\n",
    "This will provision an instance of Internet-facing Application Load Balancer. \n",
    "\n",
    "From your AWS Management Console, if you navigate to the EC2 dashboard and then select 'Load Balancers' from the menu on the left, you should see the details of the ALB\n",
    "\n",
    "Also if you select <b> Target Groups </b> and look at the registered targets under the <b> Targets </b> tab, you will see the IP addresses and ports of the sample app pods listed. \n",
    "\n",
    "Notice that the pods have been directly reigstered with the load balancer whereas when we worked with worker nodes in the earlier lab, the IP address of the worker nodes and the NodePort were registered as targets. \n",
    "\n",
    "The latter case is the <b> Instance Mode </b> where Ingress traffic starts at the ALB and reaches the Kubernetes worker nodes through each service's NodePort and subsequently reaches the pods through the service's ClusterIP. \n",
    "\n",
    "While running under Fargate, ALB operates in <b> IP Mode </b>, where Ingress traffic starts at the ALB and reaches the Kubernetes pod directly. \n",
    "\n",
    "Illustration of request routing from an AWS Application Load Balancer to Pods on worker nodes in Instance mode:\n",
    "\n",
    "<center><img src=\"https://www.eksworkshop.com/images/fargate/InstanceMode.png\" width=\"20%\" height=\"20%\"/><br><br>\n",
    "    \n",
    "Illustration of request routing from an AWS Application Load Balancer to Fargate Pods in IP mode:\n",
    "    \n",
    "<center><img src=\"https://www.eksworkshop.com/images/fargate/IPMode.png\" width=\"20%\" height=\"20%\"/>\n",
    "    \n",
    "At this point, your deployment is complete and you should be able to reach 2048-game service from a browser using the DNS name of the ALB. \n",
    "    \n",
    "    "
   ]
  },
  {
   "cell_type": "code",
   "execution_count": null,
   "metadata": {},
   "outputs": [],
   "source": [
    "!kubectl get service -n 2048-game"
   ]
  },
  {
   "cell_type": "markdown",
   "metadata": {},
   "source": [
    "<br><br><center><img src=\"https://www.eksworkshop.com/images/fargate/Browser.png\" width=\"20%\" height=\"20%\"/>"
   ]
  },
  {
   "cell_type": "markdown",
   "metadata": {},
   "source": [
    "## <br><br> Clean Up\n",
    "\n"
   ]
  },
  {
   "cell_type": "code",
   "execution_count": null,
   "metadata": {},
   "outputs": [],
   "source": [
    "!kubectl delete -f alb/2048/namespace.yaml\n",
    "!kubectl delete -f alb/2048/deployment.yaml\n",
    "!kubectl delete -f alb/2048/service.yaml"
   ]
  },
  {
   "cell_type": "code",
   "execution_count": null,
   "metadata": {},
   "outputs": [],
   "source": [
    "!kubectl delete -f alb/2048/ingress.yaml\n",
    "!helm -n 2048-game delete 2048-game "
   ]
  },
  {
   "cell_type": "code",
   "execution_count": null,
   "metadata": {},
   "outputs": [],
   "source": [
    "%%bash\n",
    "\n",
    "eksctl delete iamserviceaccount \\\n",
    "  --name alb-ingress-controller \\\n",
    "  --namespace 2048-game \\\n",
    "  --cluster eksworkshop-eksctl \\\n",
    "  --wait"
   ]
  },
  {
   "cell_type": "code",
   "execution_count": null,
   "metadata": {},
   "outputs": [],
   "source": [
    "!kubectl delete -f alb/rbac-role.yaml "
   ]
  },
  {
   "cell_type": "code",
   "execution_count": null,
   "metadata": {},
   "outputs": [],
   "source": [
    "!eksctl delete fargateprofile --name 2048-game --cluster eksworkshop-eksctl"
   ]
  },
  {
   "cell_type": "code",
   "execution_count": null,
   "metadata": {},
   "outputs": [],
   "source": [
    "!aws iam delete-policy --policy-arn $FARGATE_POLICY_ARN"
   ]
  }
 ],
 "metadata": {
  "kernelspec": {
   "display_name": "Python 3",
   "language": "python",
   "name": "python3"
  },
  "language_info": {
   "codemirror_mode": {
    "name": "ipython",
    "version": 3
   },
   "file_extension": ".py",
   "mimetype": "text/x-python",
   "name": "python",
   "nbconvert_exporter": "python",
   "pygments_lexer": "ipython3",
   "version": "3.8.3"
  }
 },
 "nbformat": 4,
 "nbformat_minor": 4
}
