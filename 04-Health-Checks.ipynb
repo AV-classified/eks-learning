{
 "cells": [
  {
   "cell_type": "markdown",
   "metadata": {},
   "source": [
    "<center> \n",
    "<h3><b> Adnan Rashid </b><\\h3>\n",
    "<br><br>\n",
    "    <nav>\n",
    "    | <a href=\"00-Contents-Setup.ipynb\"> Home Page </a> | \n",
    "    <a href=\"http://bit.ly/cka_notes_original\"> Kubernetes Notes </a> |\n",
    "    <a href=\"https://adnan.study\"> Website </a> |\n",
    "    <a href=\"https://www.instagram.com/adnans_techie_studies/\"> Instagram </a> |\n",
    "    <a href=\"https://www.linkedin.com/in/adnanrashid1/\"> LinkedIn </a> |\n",
    "    </nav>\n",
    "</center>"
   ]
  },
  {
   "cell_type": "markdown",
   "metadata": {},
   "source": [
    "<h1 style=\"background:black\"><code style=\"background:black;color:white\"><center>Health Checks</center></code></h1>"
   ]
  },
  {
   "cell_type": "markdown",
   "metadata": {},
   "source": [
    "<div class=\"alert alert-block alert-warning\">\n",
    "<font style=\"color:black\">\n",
    "<center> By default, Kubernetes will restart a container if it crashes for any reason. <br><br> It uses Liveness and Readiness probes which can be configured for running a robust application by identifying the healthy containers to send traffic to and restarting the ones when required. <br><br> In this section, we will understand how liveness and readiness probes are defined and test the same against different states of a pod. \n",
    "</center>\n",
    "    </font>\n",
    "    </div>"
   ]
  },
  {
   "cell_type": "markdown",
   "metadata": {},
   "source": [
    "<center><img src=\"https://adnanstudyimages.s3-eu-west-1.amazonaws.com/13.jpg\" width=\"50%\" height=\"50%\" border=5/>\n"
   ]
  },
  {
   "cell_type": "markdown",
   "metadata": {},
   "source": [
    "* [Configure the Liveness Probe](#liveprobe)\n",
    "* [Introduce a failure](#liveprobefail)\n",
    "* [Configure readiness Probe](#readinessprobe)\n",
    "* [Introduce a failure](#readinessprobefail)\n",
    "* [Restoring the pod status](#restorepod) \n",
    "* [Clean up](#readinesscleanup)"
   ]
  },
  {
   "cell_type": "markdown",
   "metadata": {},
   "source": [
    "<blockquote>\n",
    "\n",
    "* <b>Liveness probes </b> are used in Kubernetes to know when a pod is alive or dead. A pod can be in a dead state for a variety of reasons; Kubernetes will kill and recreate the pod when a liveness probe does not pass.\n",
    "\n",
    "* <b>Readiness probes</b> are used in Kubernetes to know when a pod is ready to serve traffic. Only when the readiness probe passes will a pod receive traffic from the service; if a readiness probe fails traffic will not be sent to the pod."
   ]
  },
  {
   "cell_type": "markdown",
   "metadata": {},
   "source": [
    "<br>"
   ]
  },
  {
   "cell_type": "code",
   "execution_count": null,
   "metadata": {},
   "outputs": [],
   "source": [
    "from IPython.display import YouTubeVideo\n",
    "YouTubeVideo('mxEvAPQRwhw')"
   ]
  },
  {
   "cell_type": "markdown",
   "metadata": {},
   "source": [
    "## Pre-requisite"
   ]
  },
  {
   "cell_type": "markdown",
   "metadata": {},
   "source": [
    "* Check your variables are loaded"
   ]
  },
  {
   "cell_type": "code",
   "execution_count": null,
   "metadata": {},
   "outputs": [],
   "source": [
    "%store"
   ]
  },
  {
   "cell_type": "markdown",
   "metadata": {},
   "source": [
    "* Load in variable store"
   ]
  },
  {
   "cell_type": "code",
   "execution_count": null,
   "metadata": {},
   "outputs": [],
   "source": [
    "%store -r "
   ]
  },
  {
   "cell_type": "markdown",
   "metadata": {},
   "source": [
    "* Load variables into notebook"
   ]
  },
  {
   "cell_type": "code",
   "execution_count": null,
   "metadata": {},
   "outputs": [],
   "source": [
    "%env AWS_PROFILE=$AWS_PROFILE\n",
    "%env AWS_DEFAULT_REGION=$AWS_DEFAULT_REGION\n",
    "%env ACCOUNT_ID=$ACCOUNT_ID"
   ]
  },
  {
   "cell_type": "markdown",
   "metadata": {},
   "source": [
    "* Check identity "
   ]
  },
  {
   "cell_type": "code",
   "execution_count": null,
   "metadata": {},
   "outputs": [],
   "source": [
    "!aws sts get-caller-identity"
   ]
  },
  {
   "cell_type": "markdown",
   "metadata": {},
   "source": [
    "<br>"
   ]
  },
  {
   "cell_type": "markdown",
   "metadata": {},
   "source": [
    "---\n",
    "---"
   ]
  },
  {
   "cell_type": "markdown",
   "metadata": {},
   "source": [
    "<br>"
   ]
  },
  {
   "cell_type": "markdown",
   "metadata": {},
   "source": [
    "## <br><br>Configure the Liveness Probe <a class=\"anchor\" id=\"liveprobe\"></a>"
   ]
  },
  {
   "cell_type": "code",
   "execution_count": null,
   "metadata": {},
   "outputs": [],
   "source": [
    "!cat healthchecks/liveness-app.yaml "
   ]
  },
  {
   "cell_type": "markdown",
   "metadata": {},
   "source": [
    "<br><br>In the configuration file above, the <mark>livenessProbe</mark> determines how kubelet should check the container in order to consider whether it is healthy or not.\n",
    "\n",
    "kubelet uses the <mark>periodSeconds</mark> field to do frequent check on the container - every 5 seconds in this case.\n",
    "\n",
    "The <mark>initialDelaySeconds</mark> field is used to tell kubelet that it should wait for 5 seconds before doing the first probe \n",
    "\n",
    "To perform a probe, kubelet sends a <mark>HTTP GET</mark> request to the server hosting this pod and depending on the handler for the servers <mark>/health</mark> returns a success code, then the container is considered healthy. \n",
    "\n",
    "If the handler returns a failure code, the kubectl kills the container and restarts it. "
   ]
  },
  {
   "cell_type": "markdown",
   "metadata": {},
   "source": [
    "* Create a pod with liveness probe"
   ]
  },
  {
   "cell_type": "code",
   "execution_count": null,
   "metadata": {},
   "outputs": [],
   "source": [
    "!kubectl apply -f healthchecks/liveness-app.yaml"
   ]
  },
  {
   "cell_type": "markdown",
   "metadata": {},
   "source": [
    "* Currently 0 restarts"
   ]
  },
  {
   "cell_type": "code",
   "execution_count": null,
   "metadata": {},
   "outputs": [],
   "source": [
    "!kubectl get pod liveness-app"
   ]
  },
  {
   "cell_type": "markdown",
   "metadata": {},
   "source": [
    "* <b>kubectl describe</b> command will show an event history which will show any probe failures or resetarts"
   ]
  },
  {
   "cell_type": "code",
   "execution_count": null,
   "metadata": {},
   "outputs": [],
   "source": [
    "!kubectl describe pod liveness-app"
   ]
  },
  {
   "cell_type": "markdown",
   "metadata": {},
   "source": [
    "## <br><br>Introduce a failure to Liveness Probe <a class=\"anchor\" id=\"liveprobefail\"></a>"
   ]
  },
  {
   "cell_type": "markdown",
   "metadata": {},
   "source": [
    "* We will run the next command to send a SIGUSR1 signal to the nodejs application. \n",
    "\n",
    "By issuing this command we will send a kill signal to the application process in the docker runtime"
   ]
  },
  {
   "cell_type": "code",
   "execution_count": null,
   "metadata": {},
   "outputs": [],
   "source": [
    "!kubectl exec -it liveness-app -- /bin/kill -s SIGUSR1 1 "
   ]
  },
  {
   "cell_type": "markdown",
   "metadata": {},
   "source": [
    "* Wait a few seconds and then look at the last few lines "
   ]
  },
  {
   "cell_type": "code",
   "execution_count": null,
   "metadata": {},
   "outputs": [],
   "source": [
    "!kubectl describe pod liveness-app"
   ]
  },
  {
   "cell_type": "markdown",
   "metadata": {},
   "source": [
    "When the nodejs app entered a debug mode with SIGUSR1 signal, it did not respond to the health check pings and kubelet killed the container. \n",
    "\n",
    "* The container was subject to the default restart policy"
   ]
  },
  {
   "cell_type": "code",
   "execution_count": null,
   "metadata": {},
   "outputs": [],
   "source": [
    "!kubectl get pod liveness-app"
   ]
  },
  {
   "cell_type": "markdown",
   "metadata": {},
   "source": [
    "* Check the status of the container health checks "
   ]
  },
  {
   "cell_type": "code",
   "execution_count": null,
   "metadata": {},
   "outputs": [],
   "source": [
    "!kubectl logs liveness-app"
   ]
  },
  {
   "cell_type": "markdown",
   "metadata": {},
   "source": [
    "* We can also use <b> kubctl logs </b> to retrieve logs from a previous instantiation of a container with <b>--previous </b> flag, in case the container has crashed"
   ]
  },
  {
   "cell_type": "code",
   "execution_count": null,
   "metadata": {},
   "outputs": [],
   "source": [
    "!kubectl logs liveness-app --previous"
   ]
  },
  {
   "cell_type": "markdown",
   "metadata": {},
   "source": [
    "## <br><br>Configure Readiness Probe <a class=\"anchor\" id=\"readinessprobe\"></a>"
   ]
  },
  {
   "cell_type": "markdown",
   "metadata": {},
   "source": [
    "<br><Br>The <b>readinessProbe</b> definition explains how a linux command can be configured as healthcheck. \n",
    "\n",
    "* We create a empty file <b>/tmp/healthy</b> to configure the readiness probe and use the same to understand how kubelet helps to update a deployment with only healthy pods"
   ]
  },
  {
   "cell_type": "code",
   "execution_count": null,
   "metadata": {},
   "outputs": [],
   "source": [
    "!cat healthchecks/readiness-deployment.yaml "
   ]
  },
  {
   "cell_type": "markdown",
   "metadata": {},
   "source": [
    "* Create a deployment to test readiness probe. "
   ]
  },
  {
   "cell_type": "code",
   "execution_count": null,
   "metadata": {},
   "outputs": [],
   "source": [
    "!kubectl apply -f healthchecks/readiness-deployment.yaml"
   ]
  },
  {
   "cell_type": "markdown",
   "metadata": {},
   "source": [
    "* This creates a deployment with 3 replicas and readiness probe as describing in the beginning"
   ]
  },
  {
   "cell_type": "code",
   "execution_count": null,
   "metadata": {},
   "outputs": [],
   "source": [
    "!kubectl get pods -l app=readiness-deployment"
   ]
  },
  {
   "cell_type": "markdown",
   "metadata": {},
   "source": [
    "* Confirm replicas are able to serve traffic when a service is pointed to this deployment"
   ]
  },
  {
   "cell_type": "code",
   "execution_count": null,
   "metadata": {},
   "outputs": [],
   "source": [
    "!kubectl describe deployment readiness-deployment | grep Replicas: "
   ]
  },
  {
   "cell_type": "markdown",
   "metadata": {},
   "source": [
    "## <br><br> Introduce a Failure to Readiness Probe <a class=\"anchor\" id=\"readinessprobefail\"></a>"
   ]
  },
  {
   "cell_type": "markdown",
   "metadata": {},
   "source": [
    "* Pick one of the pods from the above 3 and issue a command as below to delete the <b>/tmp/healthy</b> file which makes the readiness probe fail. "
   ]
  },
  {
   "cell_type": "code",
   "execution_count": null,
   "metadata": {},
   "outputs": [],
   "source": [
    "!kubectl exec -it <POD NAME> -- rm /tmp/healthy"
   ]
  },
  {
   "cell_type": "markdown",
   "metadata": {},
   "source": [
    "<br><br>We deleted the <b>/tmp/healthy</b> file which makes the readiness probe fail. \n",
    "\n",
    "* The file must be present for the readiness check to pass. Lets check the status after issuing the above"
   ]
  },
  {
   "cell_type": "code",
   "execution_count": null,
   "metadata": {},
   "outputs": [],
   "source": [
    "!kubectl get pods -l app=readiness-deployment"
   ]
  },
  {
   "cell_type": "markdown",
   "metadata": {},
   "source": [
    "<br><br>You can see traffic will not be routed to the first pod \n",
    "\n",
    "The ready column confirms that the readiness probe for this pod did not pass and hence was marked as not ready. \n",
    "\n",
    "* We will now check for the replicas that are available to serve traffic when a service is pointed to this deployment "
   ]
  },
  {
   "cell_type": "code",
   "execution_count": null,
   "metadata": {},
   "outputs": [],
   "source": [
    "!kubectl describe deployment readiness-deployment | grep Replicas: "
   ]
  },
  {
   "cell_type": "markdown",
   "metadata": {},
   "source": [
    "## <br><br>Restoring the pod status <a class=\"anchor\" id=\"restorepod\"></a>"
   ]
  },
  {
   "cell_type": "markdown",
   "metadata": {},
   "source": [
    "* Recreate the <b> /tmp/healthy </b> file\n",
    "\n",
    "Once the pod passes the probe it gets marked as ready and will begin to receive traffic again. "
   ]
  },
  {
   "cell_type": "code",
   "execution_count": null,
   "metadata": {},
   "outputs": [],
   "source": [
    "!kubectl exec -it readiness-deployment-589b548d5-cbl62 -- touch /tmp/healthy"
   ]
  },
  {
   "cell_type": "markdown",
   "metadata": {},
   "source": [
    "* We can see the pods are healthy again now"
   ]
  },
  {
   "cell_type": "code",
   "execution_count": null,
   "metadata": {},
   "outputs": [],
   "source": [
    "!kubectl get pods -l app=readiness-deployment"
   ]
  },
  {
   "cell_type": "markdown",
   "metadata": {},
   "source": [
    "## <br><br>Clean up <a class=\"anchor\" id=\"readinesscleanup\"></a>"
   ]
  },
  {
   "cell_type": "markdown",
   "metadata": {},
   "source": [
    "Our Liveness probe example used HTTP request and Readines probe executed a command to check health of a pod \n",
    "\n",
    "The same can be accomplished using a TCP request"
   ]
  },
  {
   "cell_type": "code",
   "execution_count": null,
   "metadata": {},
   "outputs": [],
   "source": [
    "!kubectl delete -f healthchecks/liveness-app.yaml \n",
    "!kubectl delete -f healthchecks/readiness-deployment.yaml"
   ]
  }
 ],
 "metadata": {
  "kernelspec": {
   "display_name": "Python 3",
   "language": "python",
   "name": "python3"
  },
  "language_info": {
   "codemirror_mode": {
    "name": "ipython",
    "version": 3
   },
   "file_extension": ".py",
   "mimetype": "text/x-python",
   "name": "python",
   "nbconvert_exporter": "python",
   "pygments_lexer": "ipython3",
   "version": "3.8.3"
  }
 },
 "nbformat": 4,
 "nbformat_minor": 4
}
