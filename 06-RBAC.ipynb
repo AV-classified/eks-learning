{
 "cells": [
  {
   "cell_type": "markdown",
   "metadata": {},
   "source": [
    "<center> \n",
    "<h2><b> Adnan Rashid </b></h2>\n",
    "    <nav>\n",
    "        <h3>\n",
    "    | <a href=\"00-Contents-Setup.ipynb\"> Home Page </a> | \n",
    "        <a href=\"http://bit.ly/cka_notes_original\"> Kubernetes Notes </a> |\n",
    "        <a href=\"https://adnan.study\"> Website </a> |\n",
    "        <a href=\"https://www.instagram.com/adnans_techie_studies/\"> Instagram </a> |\n",
    "        <a href=\"https://www.linkedin.com/in/adnanrashid1/\"> LinkedIn </a> |\n",
    "        </h3>\n",
    "    </nav>\n",
    "</center>"
   ]
  },
  {
   "cell_type": "markdown",
   "metadata": {},
   "source": [
    "<h1 style=\"background:black\"><code style=\"background:black;color:white\"><center>Introduction to RBAC</center></code></h1>"
   ]
  },
  {
   "cell_type": "markdown",
   "metadata": {},
   "source": [
    "<div class=\"alert alert-block alert-warning\"><font style=\"color:black\"><center> In this section we will learn about how role based access control (RBAC) works in kubernetes. <br><br>We will explore Kubernetes RBAC by creating an IAM user called 'rbac-user' who is authenticated to access the EKS cluster but is only authorized (via RBAC) to list, get and watch pods and deployments in the 'rbac-test' namespace.<br><br>To achieve this, we'll create IAM user, map that user to a kubernetes role, then perform kubernetes actions under that user's context.</center></font></div>"
   ]
  },
  {
   "cell_type": "markdown",
   "metadata": {},
   "source": [
    "<center><img src=\"https://adnanstudyimages.s3-eu-west-1.amazonaws.com/15.jpg\" width=\"50%\" height=\"50%\" border=5/></center>"
   ]
  },
  {
   "cell_type": "markdown",
   "metadata": {},
   "source": [
    "* [What is RBAC?](#whatrbac)\n",
    "* [Install Test Pods](#testpods)\n",
    "* [Create a User](#createuser)\n",
    "* [Map an IAM User to K8s](#mapiam)\n",
    "* [Test the new user](#testuser)\n",
    "* [Create the Role and Binding](#createrole)\n",
    "* [Verify the Role and Binding](#verifyuser)\n",
    "* [Cleanup](#rbaccleanup)"
   ]
  },
  {
   "cell_type": "code",
   "execution_count": 29,
   "metadata": {},
   "outputs": [
    {
     "data": {
      "image/jpeg": "[encoded data removed]",
      "text/html": [
       "\n",
       "        <iframe\n",
       "            width=\"400\"\n",
       "            height=\"300\"\n",
       "            src=\"https://www.youtube.com/embed/G3R24JSlGjY\"\n",
       "            frameborder=\"0\"\n",
       "            allowfullscreen\n",
       "        ></iframe>\n",
       "        "
      ],
      "text/plain": [
       "<IPython.lib.display.YouTubeVideo at 0x7fad6f4cc070>"
      ]
     },
     "execution_count": 29,
     "metadata": {},
     "output_type": "execute_result"
    }
   ],
   "source": [
    "from IPython.display import YouTubeVideo\n",
    "YouTubeVideo('G3R24JSlGjY')"
   ]
  },
  {
   "cell_type": "markdown",
   "metadata": {},
   "source": [
    "## Pre-requisite"
   ]
  },
  {
   "cell_type": "markdown",
   "metadata": {},
   "source": [
    "* Check your variables are loaded"
   ]
  },
  {
   "cell_type": "code",
   "execution_count": null,
   "metadata": {},
   "outputs": [],
   "source": [
    "%store"
   ]
  },
  {
   "cell_type": "markdown",
   "metadata": {},
   "source": [
    "* Load in variable store"
   ]
  },
  {
   "cell_type": "code",
   "execution_count": null,
   "metadata": {},
   "outputs": [],
   "source": [
    "%store -r "
   ]
  },
  {
   "cell_type": "markdown",
   "metadata": {},
   "source": [
    "* Load variables into notebook"
   ]
  },
  {
   "cell_type": "code",
   "execution_count": null,
   "metadata": {},
   "outputs": [],
   "source": [
    "%env AWS_PROFILE=$AWS_PROFILE\n",
    "%env AWS_DEFAULT_REGION=$AWS_DEFAULT_REGION\n",
    "%env ACCOUNT_ID=$ACCOUNT_ID"
   ]
  },
  {
   "cell_type": "markdown",
   "metadata": {},
   "source": [
    "* Check identity "
   ]
  },
  {
   "cell_type": "code",
   "execution_count": null,
   "metadata": {},
   "outputs": [],
   "source": [
    "!aws sts get-caller-identity"
   ]
  },
  {
   "cell_type": "markdown",
   "metadata": {},
   "source": [
    "<br>"
   ]
  },
  {
   "cell_type": "markdown",
   "metadata": {},
   "source": [
    "---\n",
    "---"
   ]
  },
  {
   "cell_type": "markdown",
   "metadata": {},
   "source": [
    "## What is RBAC? <a class=\"anchor\" id=\"whatrbac\"></a>"
   ]
  },
  {
   "cell_type": "markdown",
   "metadata": {},
   "source": [
    "<blockquote> Role Based Access Control (RBAC) is a method of regulating access to computer or network resources based on the roles of individual users within an enterprise\n",
    "\n",
    "* <b> Entity </b> \n",
    "    * A group, user or service account \n",
    "    * An identity representing an application that wants to execute certain operations (actions) and requires permissions to do so \n",
    "    \n",
    "* <b> Resource </b> \n",
    "    * A pod, service or secret that the entity wants to access using a certain operation\n",
    "    \n",
    "* <b> Role </b> \n",
    "    * Used to define rules for the actions the entity can take on various resources \n",
    "    \n",
    "* <b> Role Binding </b> \n",
    "    * This attaches (binds) a role to an entity, stating that the set of rules define the actions permitted by the attached entity on the specified resources. \n",
    "    * There are two types of Roles (Role, ClusterRole) and the respective bindings (RoleBinding, ClusterRoleBinding). These differentiate between authorization in a namespaceor cluster-wide \n",
    "    \n",
    "* <b> Namespace </b> \n",
    "    * Namespaces are an excellent way of creating security boundaries, they also provide a unique scope for object names as the 'namespace' name implies. \n",
    "    * They are intended to be used in multi-tenant environments to create virtual kubernetes clusters on the same phystical cluster. "
   ]
  },
  {
   "cell_type": "markdown",
   "metadata": {},
   "source": [
    "## <br><br>Install the Test Pods <a class=\"anchor\" id=\"testpods\"></a>"
   ]
  },
  {
   "cell_type": "markdown",
   "metadata": {},
   "source": [
    "We are going to demonstrate how to provide limited access to pods running in the rbac-test namespace for user named rbac-user \n",
    "\n",
    "* First lets create the rbac-test namespace, and then install nginx into it"
   ]
  },
  {
   "cell_type": "code",
   "execution_count": null,
   "metadata": {},
   "outputs": [],
   "source": [
    "!kubectl create namespace rbac-test \n",
    "!kubectl create deploy nginx --image=nginx -n rbac-test "
   ]
  },
  {
   "cell_type": "markdown",
   "metadata": {},
   "source": [
    "* Verify the test pods were propertly installed "
   ]
  },
  {
   "cell_type": "code",
   "execution_count": null,
   "metadata": {},
   "outputs": [],
   "source": [
    "!kubectl get all -n rbac-test"
   ]
  },
  {
   "cell_type": "markdown",
   "metadata": {},
   "source": [
    "## <br><br>Create a User <a class=\"anchor\" id=\"createuser\"></a>"
   ]
  },
  {
   "cell_type": "markdown",
   "metadata": {},
   "source": [
    "<div class=\"alert alert-block alert-danger\">\n",
    "<font style=\"color:black\"><center>\n",
    "\n",
    "<ol>Note: For the sake of simplicity we will save credentials to environment variable to make it easy to toggle back and forth between users. </ol>\n",
    "<ol>NEVER do this in production or even development and especially not with credentials that have privledged access </ol>\n",
    "<ol>Remember to clear all outputs and destroy the keys at the end. Git-secrets, if installed, will also block any commits to github </ol>\n",
    "    </center></font></div>"
   ]
  },
  {
   "cell_type": "markdown",
   "metadata": {},
   "source": [
    "* Create a new user called 'rbac-user' and generate credentials"
   ]
  },
  {
   "cell_type": "code",
   "execution_count": null,
   "metadata": {},
   "outputs": [],
   "source": [
    "!aws iam create-user --user-name rbac-user "
   ]
  },
  {
   "cell_type": "code",
   "execution_count": null,
   "metadata": {},
   "outputs": [],
   "source": [
    "!aws iam create-access-key --user-name rbac-user  "
   ]
  },
  {
   "cell_type": "markdown",
   "metadata": {},
   "source": [
    "## <br><br> Map an IAM User to Kubernetes <a class=\"anchor\" id=\"mapiam\"></a>"
   ]
  },
  {
   "cell_type": "markdown",
   "metadata": {},
   "source": [
    "We will define a kubernetes user called rbac-user, and map to its IAM user counterpart. \n",
    "\n",
    "* The following will get the existing ConfigMap and save into a file called aws-auth.yaml "
   ]
  },
  {
   "cell_type": "code",
   "execution_count": null,
   "metadata": {},
   "outputs": [],
   "source": [
    "!kubectl get configmap -n kube-system aws-auth -o yaml > rbac/aws-auth.yaml "
   ]
  },
  {
   "cell_type": "markdown",
   "metadata": {},
   "source": [
    "* Append the rbac-user mapping to the existing configMap"
   ]
  },
  {
   "cell_type": "code",
   "execution_count": null,
   "metadata": {},
   "outputs": [],
   "source": [
    "%%bash\n",
    "\n",
    "cat << EoF >> rbac/aws-auth.yaml\n",
    "data:\n",
    "  mapUsers: |\n",
    "    - userarn: arn:aws:iam::${ACCOUNT_ID}:user/rbac-user\n",
    "      username: rbac-user\n",
    "EoF"
   ]
  },
  {
   "cell_type": "markdown",
   "metadata": {},
   "source": [
    "<br><br>Some of the values may be dynamically populated when the file is created \n",
    "\n",
    "* To verify everything populated and was created correctly run the following"
   ]
  },
  {
   "cell_type": "code",
   "execution_count": null,
   "metadata": {},
   "outputs": [],
   "source": [
    "!cat rbac/aws-auth.yaml"
   ]
  },
  {
   "cell_type": "markdown",
   "metadata": {},
   "source": [
    "* Apply the ConfigMap to apply this mapping to the system"
   ]
  },
  {
   "cell_type": "code",
   "execution_count": null,
   "metadata": {},
   "outputs": [],
   "source": [
    "!kubectl apply -f rbac/aws-auth.yaml"
   ]
  },
  {
   "cell_type": "markdown",
   "metadata": {},
   "source": [
    "## <br><br> Test the New User <a class=\"anchor\" id=\"testuser\"></a>"
   ]
  },
  {
   "cell_type": "markdown",
   "metadata": {},
   "source": [
    "Until now, as the cluster operator, you have been accessing the cluster as the admin user. \n",
    "\n",
    "Lets see what happens when we access the newly created rbac-user "
   ]
  },
  {
   "cell_type": "markdown",
   "metadata": {},
   "source": [
    "* Using the credentials generated above, set the environment variables"
   ]
  },
  {
   "cell_type": "code",
   "execution_count": null,
   "metadata": {},
   "outputs": [],
   "source": [
    "%env AWS_ACCESS_KEY_ID=<ACCESS_KEY_ID>\n",
    "%env AWS_SECRET_ACCESS_KEY=<SECRET_ACCESS_ID>"
   ]
  },
  {
   "cell_type": "markdown",
   "metadata": {},
   "source": [
    "* Check identity"
   ]
  },
  {
   "cell_type": "code",
   "execution_count": null,
   "metadata": {},
   "outputs": [],
   "source": [
    "!aws sts get-caller-identity"
   ]
  },
  {
   "cell_type": "markdown",
   "metadata": {},
   "source": [
    "* Now that we are making calls in the context of the rbac-user, lets make a request to get all pods"
   ]
  },
  {
   "cell_type": "code",
   "execution_count": null,
   "metadata": {},
   "outputs": [],
   "source": [
    "!kubectl get pods -n rbac-test"
   ]
  },
  {
   "cell_type": "markdown",
   "metadata": {},
   "source": [
    "<blockquote>We should get an error, but why?<br><br>\n",
    "Just creating the user does not give that user access to any resources in the cluster.<br><br>\n",
    "In order to achieve that, we'll need to define a role, and then bind the user to that role<br><br>"
   ]
  },
  {
   "cell_type": "markdown",
   "metadata": {},
   "source": [
    "## <br><br> Create the Role and Binding <a class=\"anchor\" id=\"createrole\"></a>"
   ]
  },
  {
   "cell_type": "markdown",
   "metadata": {},
   "source": [
    "We have our new user rbac-user, but its not yet bound to any roles \n",
    "\n",
    "* We will need to switch back to default admin user by clearing the environment variables \n",
    "\n",
    "Run the below as it is"
   ]
  },
  {
   "cell_type": "code",
   "execution_count": null,
   "metadata": {},
   "outputs": [],
   "source": [
    "%env AWS_ACCESS_KEY_ID=\n",
    "%env AWS_SECRET_ACCESS_KEY="
   ]
  },
  {
   "cell_type": "markdown",
   "metadata": {},
   "source": [
    "* Verify we are the admin user again, and no longer rbac-user"
   ]
  },
  {
   "cell_type": "code",
   "execution_count": null,
   "metadata": {},
   "outputs": [],
   "source": [
    "!aws sts get-caller-identity"
   ]
  },
  {
   "cell_type": "markdown",
   "metadata": {},
   "source": [
    "<blockquote>\n",
    "We will apply a role called 'pod-reader' that provides <br><br>\n",
    "* list, get and watch access for pods and deployments <br><br>\n",
    "* only for rbac-test namespace \n",
    "</blockquote> "
   ]
  },
  {
   "cell_type": "markdown",
   "metadata": {},
   "source": [
    "*  We have the user, the role and now we are binding them together with the RoleBinding resource. "
   ]
  },
  {
   "cell_type": "code",
   "execution_count": null,
   "metadata": {},
   "outputs": [],
   "source": [
    "!kubectl apply -f RBAC/rbacuser-role.yaml \n",
    "!kubectl apply -f RBAC/rbacuser-role-binding.yaml"
   ]
  },
  {
   "cell_type": "markdown",
   "metadata": {},
   "source": [
    "## <br><br> Verify the Role and Binding <a class=\"anchor\" id=\"verifyrole\"></a>"
   ]
  },
  {
   "cell_type": "markdown",
   "metadata": {},
   "source": [
    "* Now that we have user, Role and RoleBinding defined, we need to switch back to rbac-user and test"
   ]
  },
  {
   "cell_type": "code",
   "execution_count": null,
   "metadata": {},
   "outputs": [],
   "source": [
    "%env AWS_ACCESS_KEY_ID=<ACCESS_KEY_ID>\n",
    "%env AWS_SECRET_ACCESS_KEY=<SECRET_ACCESS_ID>"
   ]
  },
  {
   "cell_type": "markdown",
   "metadata": {},
   "source": [
    "* Check identity"
   ]
  },
  {
   "cell_type": "code",
   "execution_count": null,
   "metadata": {},
   "outputs": [],
   "source": [
    "!aws sts get-caller-identity"
   ]
  },
  {
   "cell_type": "markdown",
   "metadata": {},
   "source": [
    "* Get the pods from the rbac namespace with our rbac-user"
   ]
  },
  {
   "cell_type": "code",
   "execution_count": null,
   "metadata": {},
   "outputs": [],
   "source": [
    "!kubectl get pods -n rbac-test "
   ]
  },
  {
   "cell_type": "markdown",
   "metadata": {},
   "source": [
    "* Try running the same command but outside of the rbac-test namespace"
   ]
  },
  {
   "cell_type": "code",
   "execution_count": null,
   "metadata": {},
   "outputs": [],
   "source": [
    "!kubectl get pods -n kube-system "
   ]
  },
  {
   "cell_type": "markdown",
   "metadata": {},
   "source": [
    "<br><br>We should get an <b>error</b> and this is because the role you are bound to does not give you access to any namespace other than rbac-test "
   ]
  },
  {
   "cell_type": "markdown",
   "metadata": {},
   "source": [
    "## <br><br> Clean Up<a class=\"anchor\" id=\"rbaccleanup\"></a>"
   ]
  },
  {
   "cell_type": "markdown",
   "metadata": {},
   "source": [
    "* Clear the variables"
   ]
  },
  {
   "cell_type": "code",
   "execution_count": null,
   "metadata": {},
   "outputs": [],
   "source": [
    "%env AWS_ACCESS_KEY_ID=\n",
    "%env AWS_SECRET_ACCESS_KEY="
   ]
  },
  {
   "cell_type": "markdown",
   "metadata": {},
   "source": [
    "* Delete the namespace, access key using the ID and then the user "
   ]
  },
  {
   "cell_type": "code",
   "execution_count": null,
   "metadata": {},
   "outputs": [],
   "source": [
    "!kubectl delete namespace rbac-test\n",
    "!aws iam delete-access-key --user-name=rbac-user --access-key-id=<ACCESS_KEY_ID>\n",
    "!aws iam delete-user --user-name rbac-user "
   ]
  },
  {
   "cell_type": "markdown",
   "metadata": {},
   "source": [
    "<br><Br>\n",
    "<div class=\"alert alert-block alert-danger\">\n",
    "<font style=\"color:black\">\n",
    "<center>Important: Go into your AWS account and ensure the user has been removed along with the outputs from above (Edit --> Clear Outputs) \n",
    "    </center></font></div>"
   ]
  },
  {
   "cell_type": "code",
   "execution_count": null,
   "metadata": {},
   "outputs": [],
   "source": []
  }
 ],
 "metadata": {
  "kernelspec": {
   "display_name": "Python 3",
   "language": "python",
   "name": "python3"
  },
  "language_info": {
   "codemirror_mode": {
    "name": "ipython",
    "version": 3
   },
   "file_extension": ".py",
   "mimetype": "text/x-python",
   "name": "python",
   "nbconvert_exporter": "python",
   "pygments_lexer": "ipython3",
   "version": "3.8.3"
  }
 },
 "nbformat": 4,
 "nbformat_minor": 4
}
