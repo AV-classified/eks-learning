{
 "cells": [
  {
   "cell_type": "markdown",
   "metadata": {},
   "source": [
    "<h3>  \n",
    "<center> \n",
    "<b> Adnan Rashid </b><\\h3>\n",
    "<br><br>\n",
    "<nav>\n",
    "    <center>\n",
    "    | <a href=\"00-Contents-Setup.ipynb\"> Home Page </a> | \n",
    "    <a href=\"http://bit.ly/cka_notes_original\"> Kubernetes Notes </a> |\n",
    "    <a href=\"https://adnan.study\"> Website </a> |\n",
    "    <a href=\"https://www.instagram.com/adnans_techie_studies/\"> Instagram </a> |\n",
    "    <a href=\"https://www.linkedin.com/in/adnanrashid1/\"> LinkedIn </a> |\n",
    "</nav>"
   ]
  },
  {
   "cell_type": "markdown",
   "metadata": {},
   "source": [
    "<h1 style=\"background:black\"><code style=\"background:black;color:white\"><center>Securing your Cluster with Network Policies</center></code></h1>"
   ]
  },
  {
   "cell_type": "markdown",
   "metadata": {},
   "source": [
    "<div class=\"alert alert-block alert-warning\">\n",
    "<font style=\"color:black\">\n",
    "<center> \n",
    "    \n",
    "We are going to use Project Calico to secure our cluster by using network policies and then integrating our cluster's policies with EKS security groups. \n",
    "\n",
    "Project Calico will be used to enforce Kubernetes network policies in our cluster, protecting our various microservices. \n",
    "\n",
    "* Network policies allow you to define rules that determine what type of traffic is allowed to flow between different services \n",
    "\n",
    "* Using network policies you can also define rules to restrict traffic. They are a means to imporve your cluster's security \n",
    "\n",
    "* Network policies help in isolating traffic within namespaces. \n",
    "\n",
    "If you have separate namespaces for development and production, you can prevent traffic flow between them by restrict pod to pod communication within the same namespace"
   ]
  },
  {
   "cell_type": "markdown",
   "metadata": {},
   "source": [
    "<center><img src=\"https://adnanstudyimages.s3-eu-west-1.amazonaws.com/19.jpg\" width=50% height=50% border=5/>"
   ]
  },
  {
   "cell_type": "markdown",
   "metadata": {},
   "source": [
    "* Kubernetes Pod Networking on AWS "
   ]
  },
  {
   "cell_type": "code",
   "execution_count": 27,
   "metadata": {},
   "outputs": [
    {
     "data": {
      "image/jpeg": "[encoded data removed]",
      "text/html": [
       "\n",
       "        <iframe\n",
       "            width=\"400\"\n",
       "            height=\"300\"\n",
       "            src=\"https://www.youtube.com/embed/7LRtytR6ZbA\"\n",
       "            frameborder=\"0\"\n",
       "            allowfullscreen\n",
       "        ></iframe>\n",
       "        "
      ],
      "text/plain": [
       "<IPython.lib.display.YouTubeVideo at 0x7fc12a4cc430>"
      ]
     },
     "execution_count": 27,
     "metadata": {},
     "output_type": "execute_result"
    }
   ],
   "source": [
    "from IPython.display import YouTubeVideo\n",
    "YouTubeVideo('7LRtytR6ZbA')"
   ]
  },
  {
   "cell_type": "markdown",
   "metadata": {},
   "source": [
    "## Pre-requisite"
   ]
  },
  {
   "cell_type": "markdown",
   "metadata": {},
   "source": [
    "* Check your variables are loaded"
   ]
  },
  {
   "cell_type": "code",
   "execution_count": null,
   "metadata": {},
   "outputs": [],
   "source": [
    "%store"
   ]
  },
  {
   "cell_type": "markdown",
   "metadata": {},
   "source": [
    "* Load in variable store"
   ]
  },
  {
   "cell_type": "code",
   "execution_count": null,
   "metadata": {},
   "outputs": [],
   "source": [
    "%store -r "
   ]
  },
  {
   "cell_type": "markdown",
   "metadata": {},
   "source": [
    "* Load variables into notebook"
   ]
  },
  {
   "cell_type": "code",
   "execution_count": null,
   "metadata": {},
   "outputs": [],
   "source": [
    "%env AWS_PROFILE=$AWS_PROFILE\n",
    "%env AWS_DEFAULT_REGION=$AWS_DEFAULT_REGION\n",
    "%env ACCOUNT_ID=$ACCOUNT_ID"
   ]
  },
  {
   "cell_type": "markdown",
   "metadata": {},
   "source": [
    "* Check identity "
   ]
  },
  {
   "cell_type": "code",
   "execution_count": null,
   "metadata": {},
   "outputs": [],
   "source": [
    "!aws sts get-caller-identity"
   ]
  },
  {
   "cell_type": "markdown",
   "metadata": {},
   "source": [
    "<br>"
   ]
  },
  {
   "cell_type": "markdown",
   "metadata": {},
   "source": [
    "---\n",
    "---"
   ]
  },
  {
   "cell_type": "markdown",
   "metadata": {},
   "source": [
    "## <br><br>Install Calico "
   ]
  },
  {
   "cell_type": "markdown",
   "metadata": {},
   "source": [
    "* Install Calico manifest which creates the daemon sets in the kube-system namespace"
   ]
  },
  {
   "cell_type": "code",
   "execution_count": null,
   "metadata": {},
   "outputs": [],
   "source": [
    "!kubectl apply -f https://raw.githubusercontent.com/aws/amazon-vpc-cni-k8s/master/config/v1.6/calico.yaml"
   ]
  },
  {
   "cell_type": "markdown",
   "metadata": {},
   "source": [
    "<div class=\"alert alert-block alert-success\">\n",
    "<font style=\"color:black\">\n",
    "\n",
    "Key features of the Calico manifest:<br>\n",
    "\n",
    "<h4><b> Feature 1 </b></h4>\n",
    "<blockquote>\n",
    "    <ol>\n",
    "<li>Annotations are a way to attach non-identifying metadata to objects. <br>\n",
    "<li>This metadata is not used internally by Kubernetes, so they cannot be used to identify within k8s. Instead, they are used by external tools and libraries\n",
    "    </ol>\n",
    "</blockquote>\n",
    "<br>\n",
    "Examples of annotations include build/release timestamps, client library information for debugging or fields managed by a network policy like Calico in this case\n",
    "<br><br>\n",
    "In contrast, Labels in Kubernetes are intended to be used to specify identifying attributes for objects. \n",
    "<br><br>\n",
    "Labels are used by selector queries or with label selectors. Since they are used internally by kubernetes the structure of keys and values is constrained, to optimise queries \n",
    "<br><br><br>\n",
    "    \n",
    "<h4><b> Feature 2 </b></h4>\n",
    "<blockquote>\n",
    "    <ol>\n",
    " <li>The manifest has a tolerations attribute.</li>\n",
    " <li>Taints and tolerations work together to ensure pods are not scheduled onto inappropriate nodes.</li>\n",
    " <li>Taints are applied to nodes, and the <b>only pods that can tolerate the taint are allowed to run on those nodes </b></li>\n",
    "</ol>\n",
    "</blockquote>\n",
    "\n",
    "<br>\n",
    "A taint consists of a key, a value for it and an effect, which can be\n",
    "\n",
    "* <b>PreferNoSchedule:</b> Prefer not to schedule intolerant pods to the tained node \n",
    "* <b>NoSchedule:</b> Do not schedule intolerant pods to the tained node \n",
    "* <b>NoExecute:</b> In addition to not scheduling, also evict intolerant pods that are already running on the node \n",
    "\n",
    "Like taints, tolerations also have a key value pair and an effect, with the addition of operator. Here in the Calico manifest, we see tolerations has just one attribute: <b>Operator = exists. </b>\n",
    "\n",
    "This means the key value pair is omitted and the toleration will match any taint, ensuring it runs on all nodes"
   ]
  },
  {
   "cell_type": "raw",
   "metadata": {},
   "source": [
    "tolerations:\n",
    "        # Make sure calico/node gets scheduled on all nodes.\n",
    "        - effect: NoSchedule\n",
    "          operator: Exists\n",
    "        # Mark the pod as a critical add-on for rescheduling.\n",
    "        - key: CriticalAddonsOnly\n",
    "          operator: Exists\n",
    "        - effect: NoExecute\n",
    "          operator: Exists"
   ]
  },
  {
   "cell_type": "markdown",
   "metadata": {},
   "source": [
    "* Watch the kube-system daemon sets and wait for the calico-node daemon set to have the DESIRED number of pods in the READY state"
   ]
  },
  {
   "cell_type": "code",
   "execution_count": null,
   "metadata": {},
   "outputs": [],
   "source": [
    "!kubectl get daemonset calico-node --namespace=kube-system"
   ]
  },
  {
   "cell_type": "markdown",
   "metadata": {},
   "source": [
    "## <br><br>Stars Policy Demo "
   ]
  },
  {
   "cell_type": "markdown",
   "metadata": {},
   "source": [
    "We create a frontend, backend, client and UI services on the EKS cluster and define network policies to allow or block communication between these services. This demo also has a management UI that shows the available ingress and egress paths between each service"
   ]
  },
  {
   "cell_type": "markdown",
   "metadata": {},
   "source": [
    "#### Stars Namespace"
   ]
  },
  {
   "cell_type": "markdown",
   "metadata": {},
   "source": [
    "* Before creating network policies, lets view the required resources "
   ]
  },
  {
   "cell_type": "code",
   "execution_count": null,
   "metadata": {},
   "outputs": [],
   "source": [
    "!cat calico_resources/namespace.yaml "
   ]
  },
  {
   "cell_type": "markdown",
   "metadata": {},
   "source": [
    "* Create namespace called 'stars'"
   ]
  },
  {
   "cell_type": "code",
   "execution_count": null,
   "metadata": {},
   "outputs": [],
   "source": [
    "!kubectl apply -f calico_resources/namespace.yaml "
   ]
  },
  {
   "cell_type": "markdown",
   "metadata": {},
   "source": [
    "* Create a management-ui namespace, with a management-ui service and replication controller within that namespace"
   ]
  },
  {
   "cell_type": "code",
   "execution_count": null,
   "metadata": {},
   "outputs": [],
   "source": [
    "!kubectl apply -f calico_resources/management-ui.yaml"
   ]
  },
  {
   "cell_type": "markdown",
   "metadata": {},
   "source": [
    "* To see how the backend and front is built, you can cat the following files"
   ]
  },
  {
   "cell_type": "code",
   "execution_count": null,
   "metadata": {},
   "outputs": [],
   "source": [
    "!cat calico_resources/backend.yaml"
   ]
  },
  {
   "cell_type": "code",
   "execution_count": null,
   "metadata": {},
   "outputs": [],
   "source": [
    "!cat calico_resources/frontend.yaml"
   ]
  },
  {
   "cell_type": "markdown",
   "metadata": {},
   "source": [
    "* Create frontend and backend replication controllers and services within the stars namespace"
   ]
  },
  {
   "cell_type": "code",
   "execution_count": null,
   "metadata": {},
   "outputs": [],
   "source": [
    "!kubectl apply -f calico_resources/backend.yaml \n",
    "!kubectl apply -f calico_resources/frontend.yaml"
   ]
  },
  {
   "cell_type": "markdown",
   "metadata": {},
   "source": [
    "* Here you can see how the client namespace, and a client service for a replication controller are built."
   ]
  },
  {
   "cell_type": "code",
   "execution_count": null,
   "metadata": {},
   "outputs": [],
   "source": [
    "!cat calico_resources/client.yaml"
   ]
  },
  {
   "cell_type": "markdown",
   "metadata": {},
   "source": [
    "* Apply the client configuration"
   ]
  },
  {
   "cell_type": "code",
   "execution_count": null,
   "metadata": {},
   "outputs": [],
   "source": [
    "!kubectl apply -f calico_resources/client.yaml"
   ]
  },
  {
   "cell_type": "markdown",
   "metadata": {},
   "source": [
    "* Check their status, and wait for all the pods to reach the Running status. "
   ]
  },
  {
   "cell_type": "code",
   "execution_count": null,
   "metadata": {},
   "outputs": [],
   "source": [
    "!kubectl get pods --all-namespaces"
   ]
  },
  {
   "cell_type": "markdown",
   "metadata": {},
   "source": [
    "#### <br><br>Summary \n",
    "\n",
    "* A namespace called stars \n",
    "* frontend and backend replication controlers and services within stars namespace \n",
    "* A namespace called management-ui \n",
    "* Replication controller and service management-ui for the user interface seen on the browser, in the management-ui namespace \n",
    "* A namespace called client \n",
    "* client replication controller and service in client namespace "
   ]
  },
  {
   "cell_type": "markdown",
   "metadata": {},
   "source": [
    "## <br><br>Default Pod-to-Pod Communication"
   ]
  },
  {
   "cell_type": "markdown",
   "metadata": {},
   "source": [
    "In Kubernetes, the <b>pods by default can communicate with other pods</b>, regardless of which host they land on \n",
    "\n",
    "* Every pod gets its own IP address so you do not need to explicitly create links between pods \n",
    "\n",
    "This is demonstrated by the <b>management-ui</b>"
   ]
  },
  {
   "cell_type": "raw",
   "metadata": {},
   "source": [
    "kind: Service\n",
    "metadata:\n",
    "  name: management-ui \n",
    "  namespace: management-ui \n",
    "spec:\n",
    "  type: LoadBalancer\n",
    "  ports:\n",
    "  - port: 80 \n",
    "    targetPort: 9001"
   ]
  },
  {
   "cell_type": "markdown",
   "metadata": {},
   "source": [
    "* To open the management UI, retrieve the DNS name of the Management UI "
   ]
  },
  {
   "cell_type": "code",
   "execution_count": null,
   "metadata": {},
   "outputs": [],
   "source": [
    "!kubectl get svc -o wide -n management-ui "
   ]
  },
  {
   "cell_type": "markdown",
   "metadata": {},
   "source": [
    "* Copy the <b> EXTERNAL-IP</b> from the output above and paste into browser\n",
    "* The EXTERNAL-IP column contains a value that ends with 'elb.amazonaws.com' - the full value is the DNS address \n",
    "\n",
    "The UI here shows the default behavior, of all services being able to reach each other. "
   ]
  },
  {
   "cell_type": "markdown",
   "metadata": {},
   "source": [
    "<img src=\"https://www.eksworkshop.com/images/calico-full-access.png\" width=\"40%\" height=\"40%\"/>"
   ]
  },
  {
   "cell_type": "markdown",
   "metadata": {},
   "source": [
    "## <br><br>Apply Network Policies"
   ]
  },
  {
   "cell_type": "markdown",
   "metadata": {},
   "source": [
    "In production level cluster, it is not secure to have open pod to pod communication. Lets see how we can isolate the services from each other "
   ]
  },
  {
   "cell_type": "code",
   "execution_count": null,
   "metadata": {},
   "outputs": [],
   "source": [
    "cat calico_resources/default-deny.yaml"
   ]
  },
  {
   "cell_type": "markdown",
   "metadata": {},
   "source": [
    "Here we see the podSelector does not have any matchLabels, essentially blocking all the pods from accessing it \n",
    "\n",
    "* Apply the network policy in the <b>stars</b> namespace (frontend and backend services) and the <b>client</b> namespace (client service) "
   ]
  },
  {
   "cell_type": "code",
   "execution_count": null,
   "metadata": {},
   "outputs": [],
   "source": [
    "!kubectl apply -n stars -f calico_resources/default-deny.yaml \n",
    "!kubectl apply -n client -f calico_resources/default-deny.yaml"
   ]
  },
  {
   "cell_type": "markdown",
   "metadata": {},
   "source": [
    "<blockquote><br>If you refresh the browser now, you will see that nothing shows up on the UI\n",
    "\n",
    "- Network policies in Kubernetes use labels to select pods, and define rules on what traffic is allowed to reach those pods. \n",
    "- They may specify ingress or egress or both\n",
    "- Each rule allows traffic which matches both the from and ports section "
   ]
  },
  {
   "cell_type": "markdown",
   "metadata": {},
   "source": [
    "* Create two new network policies and check the contents"
   ]
  },
  {
   "cell_type": "code",
   "execution_count": null,
   "metadata": {},
   "outputs": [],
   "source": [
    "cat calico_resources/allow-ui.yaml"
   ]
  },
  {
   "cell_type": "code",
   "execution_count": null,
   "metadata": {},
   "outputs": [],
   "source": [
    "cat calico_resources/allow-ui-client.yaml"
   ]
  },
  {
   "cell_type": "markdown",
   "metadata": {},
   "source": [
    "* Apply our network policies to allow the traffic we want"
   ]
  },
  {
   "cell_type": "code",
   "execution_count": null,
   "metadata": {},
   "outputs": [],
   "source": [
    "!kubectl apply -f calico_resources/allow-ui.yaml \n",
    "!kubectl apply -f calico_resources/allow-ui-client.yaml "
   ]
  },
  {
   "cell_type": "markdown",
   "metadata": {},
   "source": [
    "* This time you can see the management UI can reach the services the they cannot communicate with each other "
   ]
  },
  {
   "cell_type": "markdown",
   "metadata": {},
   "source": [
    "<img src=\"https://www.eksworkshop.com/images/calico-mgmtui-access.png\" width=\"40%\" height=\"40%\"/>"
   ]
  },
  {
   "cell_type": "markdown",
   "metadata": {},
   "source": [
    "## <br><br>Allow Directional Traffic "
   ]
  },
  {
   "cell_type": "markdown",
   "metadata": {},
   "source": [
    "* Lets see how we can allow directional traffic from client to frontend, and from frontend to backend\n",
    "* Lets examine this backend policy first"
   ]
  },
  {
   "cell_type": "code",
   "execution_count": null,
   "metadata": {},
   "outputs": [],
   "source": [
    "cat calico_resources/backend-policy.yaml "
   ]
  },
  {
   "cell_type": "markdown",
   "metadata": {},
   "source": [
    "* Allow traffic from frontend service to the backend service apply the manifest "
   ]
  },
  {
   "cell_type": "code",
   "execution_count": null,
   "metadata": {},
   "outputs": [],
   "source": [
    "!kubectl apply -f calico_resources/backend-policy.yaml \n",
    "!kubectl apply -f calico_resources/frontend-policy.yaml "
   ]
  },
  {
   "cell_type": "markdown",
   "metadata": {},
   "source": [
    "<img src=\"https://www.eksworkshop.com/images/calico-client-f-b-access.png\" width=\"40%\" height=\"40%\"/>"
   ]
  },
  {
   "cell_type": "markdown",
   "metadata": {},
   "source": [
    "* The backend policy has a podSelector that selects all pods with the label <b>role:backend</b>, and allows ingress from all pods that have the label <b>role:frontend</b> and on TCP port 6379, but not the other way round. \n",
    "* Traffic is allowed in one direction on a specific port number"
   ]
  },
  {
   "cell_type": "raw",
   "metadata": {},
   "source": [
    "spec:\n",
    "  podSelector:\n",
    "    matchLabels:\n",
    "      role: backend\n",
    "  ingress:\n",
    "    - from:\n",
    "        - podSelector:\n",
    "            matchLabels:\n",
    "              role: frontend\n",
    "      ports:\n",
    "        - protocol: TCP\n",
    "          port: 6379\n"
   ]
  },
  {
   "cell_type": "markdown",
   "metadata": {},
   "source": [
    "* The frontend-policy is similar, except it allows ingress from namespaces that have the label <b>role: client</b> on TCP port <b>80 </b>"
   ]
  },
  {
   "cell_type": "raw",
   "metadata": {},
   "source": [
    "spec:\n",
    "  podSelector:\n",
    "    matchLabels:\n",
    "      role: frontend\n",
    "  ingress:\n",
    "    - from:\n",
    "        - namespaceSelector:\n",
    "            matchLabels:\n",
    "              role: client\n",
    "      ports:\n",
    "        - protocol: TCP\n",
    "          port: 80"
   ]
  },
  {
   "cell_type": "markdown",
   "metadata": {},
   "source": [
    "## <br><br>Cleanup"
   ]
  },
  {
   "cell_type": "code",
   "execution_count": null,
   "metadata": {},
   "outputs": [],
   "source": [
    "!kubectl delete namespace client stars management-ui"
   ]
  },
  {
   "cell_type": "code",
   "execution_count": null,
   "metadata": {},
   "outputs": [],
   "source": [
    "!kubectl delete -f https://raw.githubusercontent.com/aws/amazon-vpc-cni-k8s/master/config/v1.6/calico.yaml"
   ]
  }
 ],
 "metadata": {
  "kernelspec": {
   "display_name": "Python 3",
   "language": "python",
   "name": "python3"
  },
  "language_info": {
   "codemirror_mode": {
    "name": "ipython",
    "version": 3
   },
   "file_extension": ".py",
   "mimetype": "text/x-python",
   "name": "python",
   "nbconvert_exporter": "python",
   "pygments_lexer": "ipython3",
   "version": "3.8.3"
  }
 },
 "nbformat": 4,
 "nbformat_minor": 4
}
