{
 "cells": [
  {
   "cell_type": "markdown",
   "metadata": {},
   "source": [
    "<center> \n",
    "<h2><b> Adnan Rashid </b></h2>\n",
    "    <nav>\n",
    "        <h3>\n",
    "    | <a href=\"00-Contents-Setup.ipynb\"> Home Page </a> | \n",
    "        <a href=\"http://bit.ly/cka_notes_original\"> Kubernetes Notes </a> |\n",
    "        <a href=\"https://adnan.study\"> Website </a> |\n",
    "        <a href=\"https://www.instagram.com/adnans_techie_studies/\"> Instagram </a> |\n",
    "        <a href=\"https://www.linkedin.com/in/adnanrashid1/\"> LinkedIn </a> |\n",
    "        </h3>\n",
    "    </nav>\n",
    "</center>"
   ]
  },
  {
   "cell_type": "markdown",
   "metadata": {},
   "source": [
    "<h1 style=\"background:black\"><code style=\"background:black;color:white\"><center>Exposing a Service</center></code></h1>"
   ]
  },
  {
   "cell_type": "markdown",
   "metadata": {},
   "source": [
    "<div class=\"alert alert-block alert-warning\">\n",
    "<font style=\"color:black\">\n",
    "<center> We will review how to configure a Service, Deployment or Pod to be exposed outside our cluster. We will also review the different ways to do so.\n",
    "\n",
    "</center>\n",
    "</font>\n",
    "</div>"
   ]
  },
  {
   "cell_type": "markdown",
   "metadata": {},
   "source": [
    "<center><img src=\"https://adnanstudyimages.s3-eu-west-1.amazonaws.com/21.jpg\" width=\"50%\" height=\"50%\" border=5/></center>"
   ]
  },
  {
   "cell_type": "markdown",
   "metadata": {},
   "source": [
    "* [Creating The Service](#service_create)\n",
    "* [Accessing The Service](#service_access)\n",
    "* [DNS](#serivce_dns)\n",
    "* [Exposing the Service](#service_exposingservice)\n",
    "* [Ingress](#service_ingress)\n",
    "* [Ingress Controller](#service_ingresscontroller)"
   ]
  },
  {
   "cell_type": "markdown",
   "metadata": {},
   "source": [
    "* Explanation of Kubernetes Services "
   ]
  },
  {
   "cell_type": "code",
   "execution_count": 139,
   "metadata": {},
   "outputs": [
    {
     "data": {
      "image/jpeg": "[encoded data removed]",
      "text/html": [
       "\n",
       "        <iframe\n",
       "            width=\"400\"\n",
       "            height=\"300\"\n",
       "            src=\"https://www.youtube.com/embed/5lzUpDtmWgM\"\n",
       "            frameborder=\"0\"\n",
       "            allowfullscreen\n",
       "        ></iframe>\n",
       "        "
      ],
      "text/plain": [
       "<IPython.lib.display.YouTubeVideo at 0x7f93404fce50>"
      ]
     },
     "execution_count": 139,
     "metadata": {},
     "output_type": "execute_result"
    }
   ],
   "source": [
    "from IPython.display import YouTubeVideo\n",
    "YouTubeVideo('5lzUpDtmWgM')"
   ]
  },
  {
   "cell_type": "markdown",
   "metadata": {},
   "source": [
    "<blockquote> Before going into Kubernetes approach to networking, worthwhile understanding normal way networking works with Docker \n",
    "\n",
    "* Docker uses <b>host-private networking</b>, containers can talk to other containers only if they are on the same machine \n",
    "\n",
    "In order for docker containers to communicate across nodes, there must be allocated ports on the machines own IP address, which are then forwarded or proxies to the containers. This obviously means that containers must either coordinate which ports they use very carefully or ports must be allocated dynamically \n",
    "\n",
    "Coordinating ports across multiple developers is very difficult to do at scale and exposes users to cluster-level issues outside of their control. Kubernetes assumes that pods can communicate with other pods, regardless of which host they land on\n",
    "\n",
    "* We give every pod its own <b>cluster-private-IP</b> address so you do not need to explicitly create links between pods or map container ports to host ports. \n",
    "\n",
    "This means that containers within a Pod can all reach each other's ports on localhost, and all pods in a cluster can see each other without NAT "
   ]
  },
  {
   "cell_type": "markdown",
   "metadata": {},
   "source": [
    "## Pre-requisite"
   ]
  },
  {
   "cell_type": "markdown",
   "metadata": {},
   "source": [
    "* Check your variables are loaded"
   ]
  },
  {
   "cell_type": "code",
   "execution_count": null,
   "metadata": {},
   "outputs": [],
   "source": [
    "%store"
   ]
  },
  {
   "cell_type": "markdown",
   "metadata": {},
   "source": [
    "* Load in variable store"
   ]
  },
  {
   "cell_type": "code",
   "execution_count": null,
   "metadata": {},
   "outputs": [],
   "source": [
    "%store -r "
   ]
  },
  {
   "cell_type": "markdown",
   "metadata": {},
   "source": [
    "* Load variables into notebook"
   ]
  },
  {
   "cell_type": "code",
   "execution_count": null,
   "metadata": {},
   "outputs": [],
   "source": [
    "%env AWS_PROFILE=$AWS_PROFILE\n",
    "%env AWS_DEFAULT_REGION=$AWS_DEFAULT_REGION\n",
    "%env ACCOUNT_ID=$ACCOUNT_ID"
   ]
  },
  {
   "cell_type": "markdown",
   "metadata": {},
   "source": [
    "* Check identity "
   ]
  },
  {
   "cell_type": "code",
   "execution_count": null,
   "metadata": {},
   "outputs": [],
   "source": [
    "!aws sts get-caller-identity"
   ]
  },
  {
   "cell_type": "markdown",
   "metadata": {},
   "source": [
    "<br>"
   ]
  },
  {
   "cell_type": "markdown",
   "metadata": {},
   "source": [
    "---\n",
    "---"
   ]
  },
  {
   "cell_type": "markdown",
   "metadata": {},
   "source": [
    "<br>"
   ]
  },
  {
   "cell_type": "markdown",
   "metadata": {},
   "source": [
    "#### Important "
   ]
  },
  {
   "cell_type": "markdown",
   "metadata": {},
   "source": [
    "This lab will not work without recreating the cluster. Something is not cleaned up correctly from previous lab however i have not had a chance to troubleshoot yet. "
   ]
  },
  {
   "cell_type": "markdown",
   "metadata": {},
   "source": [
    "#### <br><br>Exposing pods to the cluster "
   ]
  },
  {
   "cell_type": "markdown",
   "metadata": {},
   "source": [
    "* Create the namespace "
   ]
  },
  {
   "cell_type": "code",
   "execution_count": null,
   "metadata": {},
   "outputs": [],
   "source": [
    "!kubectl create ns my-nginx"
   ]
  },
  {
   "cell_type": "markdown",
   "metadata": {},
   "source": [
    "* Create the nginx deployment with 2 replicas "
   ]
  },
  {
   "cell_type": "code",
   "execution_count": null,
   "metadata": {},
   "outputs": [],
   "source": [
    "!kubectl -n my-nginx apply -f services/run-my-nginx.yaml "
   ]
  },
  {
   "cell_type": "code",
   "execution_count": null,
   "metadata": {},
   "outputs": [],
   "source": [
    "!kubectl -n my-nginx get pods -o wide"
   ]
  },
  {
   "cell_type": "markdown",
   "metadata": {},
   "source": [
    "* Check your pods IP's "
   ]
  },
  {
   "cell_type": "code",
   "execution_count": null,
   "metadata": {},
   "outputs": [],
   "source": [
    "!kubectl -n my-nginx get pods -o yaml | grep 'podIP:'"
   ]
  },
  {
   "cell_type": "markdown",
   "metadata": {},
   "source": [
    "## <br><br>Creating a Service  <a class=\"anchor\" id=\"service_create\"></a>"
   ]
  },
  {
   "cell_type": "markdown",
   "metadata": {},
   "source": [
    "<blockquote>So we have pods running nginx in a flat, cluster wide, address space. In theory, you could talk to these pods directly, but what if a node dies? The pod dies with it, and the deployment will create a new one, with different IPs. This is the problem a services solves \n",
    "\n",
    "* A Kubernetes Service is an abstraction which defines a logical set of Pods running somewhere in your cluster, that all provide the same functionality\n",
    "\n",
    "When created, each Service is assigned a unique IP address (also called clusterIP). This address is tied to the lifespan of the Service, and will not change while the Service is alive. Pods can be configured to talk to the Service, and know that communication to the Service will be automatically load-balanced out to some pod that is a member of the Service "
   ]
  },
  {
   "cell_type": "markdown",
   "metadata": {},
   "source": [
    "* Create a service for the 2 nginx replicas with kubectl expose "
   ]
  },
  {
   "cell_type": "code",
   "execution_count": null,
   "metadata": {},
   "outputs": [],
   "source": [
    "!kubectl -n my-nginx expose deployment/my-nginx"
   ]
  },
  {
   "cell_type": "markdown",
   "metadata": {},
   "source": [
    "This specification will create a service which targets TCP port 80 on any Pod with the run: my-nginx label and exposes it on an abstracted service port \n",
    "\n",
    "* <b>targetPort:</b> is the port the container accepts traffic on\n",
    "* <b>port:</b> is the abstracted service port, which can be any port other pods use to access the service \n",
    "\n",
    "View Service API object to see the list of supported fields in service definition "
   ]
  },
  {
   "cell_type": "markdown",
   "metadata": {},
   "source": [
    "* Check your service "
   ]
  },
  {
   "cell_type": "code",
   "execution_count": null,
   "metadata": {},
   "outputs": [],
   "source": [
    "!kubectl -n my-nginx get svc my-nginx"
   ]
  },
  {
   "cell_type": "markdown",
   "metadata": {},
   "source": [
    "<br> Service is backed by a group of pods and these pods are exposed through endpoints \n",
    "\n",
    "* Service's selector will be evaluated continously and the results will be POSTed to an Endpoints object also named my-nginx\n",
    "* When a pod dies, it is automatically removed from the endpoints, and new Pods matching the Service's selector will automatically get added to the endpoints\n",
    "\n",
    "Check the endpoints, and note that the IPs are the same as the Pods created in the first step "
   ]
  },
  {
   "cell_type": "code",
   "execution_count": null,
   "metadata": {},
   "outputs": [],
   "source": [
    "!kubectl -n my-nginx describe svc my-nginx"
   ]
  },
  {
   "cell_type": "markdown",
   "metadata": {},
   "source": [
    "<br>The Service IP is completely virtual, it never hits the wire"
   ]
  },
  {
   "cell_type": "markdown",
   "metadata": {},
   "source": [
    "* Create a variable set with the my-nginx service IP "
   ]
  },
  {
   "cell_type": "code",
   "execution_count": null,
   "metadata": {},
   "outputs": [],
   "source": [
    "!kubectl -n my-nginx get svc my-nginx -ojsonpath='{.spec.clusterIP}'"
   ]
  },
  {
   "cell_type": "markdown",
   "metadata": {},
   "source": [
    "* Add the IP address to MyClusterIP below"
   ]
  },
  {
   "cell_type": "code",
   "execution_count": null,
   "metadata": {},
   "outputs": [],
   "source": [
    "%env MyClusterIP=10.100.225.127"
   ]
  },
  {
   "cell_type": "markdown",
   "metadata": {},
   "source": [
    "<br>Creating a new deployment called <i>load-generator</i> (with the MyClusterIP variable also set inside the container) and get an interactive shell on a pod + container\n",
    "\n",
    "* Create a new deployment and allocate a TTY for the container in the pod in terminal"
   ]
  },
  {
   "cell_type": "markdown",
   "metadata": {},
   "source": [
    "<p style=\"background:black\">\n",
    "<code style=\"background:black;color:white\">> kubectl -n my-nginx run -i --tty load-generator --env=\"MyClusterIP=${MyClusterIP}\" --image=busybox /bin/sh\n",
    "</code>\n",
    "</p>"
   ]
  },
  {
   "cell_type": "markdown",
   "metadata": {},
   "source": [
    "* Connect to the nginx welcome page using the Cluster IP"
   ]
  },
  {
   "cell_type": "markdown",
   "metadata": {},
   "source": [
    "<p style=\"background:black\">\n",
    "<code style=\"background:black;color:white\">> wget -q -O - ${MyClusterIP} | grep '<title>'\n",
    "</code>\n",
    "</p>"
   ]
  },
  {
   "cell_type": "markdown",
   "metadata": {},
   "source": [
    "* Exit the container "
   ]
  },
  {
   "cell_type": "markdown",
   "metadata": {},
   "source": [
    "<p style=\"background:black\">\n",
    "<code style=\"background:black;color:white\">> exit\n",
    "</code>\n",
    "</p>"
   ]
  },
  {
   "cell_type": "markdown",
   "metadata": {},
   "source": [
    "## <br><br>Accessing The Service  <a class=\"anchor\" id=\"service_access\"></a>"
   ]
  },
  {
   "cell_type": "markdown",
   "metadata": {},
   "source": [
    "Kubernetes supports 2 primary modes of finding a Service: environment variables and DNS \n",
    "\n",
    "The former works out of the box while the latter requires the CoreDNS cluster add-on (automatically installed when creating the EKS cluster) \n",
    "\n",
    "<u>Environment Variables</u>\n",
    "\n",
    "* When a pod runs on a Node, the <b>kubelet</b> adds a set of environment variables for each active Service. This introduces an ordering problem\n",
    "\n",
    "To see why, inspect the environment of your running nginx pods."
   ]
  },
  {
   "cell_type": "code",
   "execution_count": null,
   "metadata": {},
   "outputs": [],
   "source": [
    "!kubectl -n my-nginx get pods -o wide"
   ]
  },
  {
   "cell_type": "markdown",
   "metadata": {},
   "source": [
    "* Now let's inspect the environment of one of your running nginx pods"
   ]
  },
  {
   "cell_type": "code",
   "execution_count": null,
   "metadata": {},
   "outputs": [],
   "source": [
    "!kubectl -n my-nginx get pods -o jsonpath='{.items[0].metadata.name}'"
   ]
  },
  {
   "cell_type": "code",
   "execution_count": null,
   "metadata": {},
   "outputs": [],
   "source": [
    "!kubectl -n my-nginx exec load-generator -- printenv | grep SERVICE"
   ]
  },
  {
   "cell_type": "markdown",
   "metadata": {},
   "source": [
    "Another disadvantage of doing this is that the scheduler might put both Pods on the same machine, which will take your entire Service down if it dies\n",
    "\n",
    "* We can do this the right way by killing the 2 pods and waiting for the deployment to recreate them. This time around the Service exists before the replicas. This will give you scheduler-level Service spreading to your Pods (provided all yoru nodes have equal capacity), as well as the right environment variables: "
   ]
  },
  {
   "cell_type": "code",
   "execution_count": null,
   "metadata": {},
   "outputs": [],
   "source": [
    "!kubectl -n my-nginx rollout restart deployment my-nginx"
   ]
  },
  {
   "cell_type": "code",
   "execution_count": null,
   "metadata": {},
   "outputs": [],
   "source": [
    "!kubectl -n my-nginx get pods -o wide"
   ]
  },
  {
   "cell_type": "markdown",
   "metadata": {},
   "source": [
    "* The pods should have different names as they are destroyed and recreated"
   ]
  },
  {
   "cell_type": "code",
   "execution_count": null,
   "metadata": {},
   "outputs": [],
   "source": [
    "!kubectl -n my-nginx get pods  -o jsonpath='{.items[0].metadata.name}'"
   ]
  },
  {
   "cell_type": "markdown",
   "metadata": {},
   "source": [
    "* Set mypod from the output above"
   ]
  },
  {
   "cell_type": "code",
   "execution_count": null,
   "metadata": {},
   "outputs": [],
   "source": [
    "%env mypod=load-generator"
   ]
  },
  {
   "cell_type": "code",
   "execution_count": null,
   "metadata": {},
   "outputs": [],
   "source": [
    "!kubectl -n my-nginx exec ${mypod} -- printenv | grep SERVICE"
   ]
  },
  {
   "cell_type": "code",
   "execution_count": null,
   "metadata": {},
   "outputs": [],
   "source": [
    "%env KUBERNETES_SERVICE_PORT=443\n",
    "%env MY_NGINX_SERVICE_PORT=80\n",
    "%env KUBERNETES_SERVICE_HOST=10.100.0.1\n",
    "%env KUBERNETES_SERVICE_PORT_HTTPS=443"
   ]
  },
  {
   "cell_type": "markdown",
   "metadata": {},
   "source": [
    "* Change the following to be like output"
   ]
  },
  {
   "cell_type": "code",
   "execution_count": null,
   "metadata": {},
   "outputs": [],
   "source": [
    "%env MY_NGINX_SERVICE_HOST=10.100.225.127"
   ]
  },
  {
   "cell_type": "markdown",
   "metadata": {},
   "source": [
    "#### <br><br>DNS "
   ]
  },
  {
   "cell_type": "markdown",
   "metadata": {},
   "source": [
    "* Kubernetes offers a DNS cluster add-on Service that automatically assigns dns names to other Services. You can check if its running on your cluster \n",
    "* To check if your cluster is already running CoreDNS, run the following"
   ]
  },
  {
   "cell_type": "code",
   "execution_count": null,
   "metadata": {},
   "outputs": [],
   "source": [
    "!kubectl get pod -n kube-system -l k8s-app=kube-dns"
   ]
  },
  {
   "cell_type": "markdown",
   "metadata": {},
   "source": [
    "* Run the the following in terminal "
   ]
  },
  {
   "cell_type": "markdown",
   "metadata": {},
   "source": [
    "<p style=\"background:black\">\n",
    "<code style=\"background:black;color:white\">> kubectl -n my-nginx run curl --image=radial/busyboxplus:curl -i --tty </code> </p>      "
   ]
  },
  {
   "cell_type": "markdown",
   "metadata": {},
   "source": [
    "<p style=\"background:black\">\n",
    "    <code style=\"background:black;color:white\">> nslookup my-nginx</code>\n",
    "</p>"
   ]
  },
  {
   "cell_type": "markdown",
   "metadata": {},
   "source": [
    "<p style=\"background:black\">\n",
    "    <code style=\"background:black;color:white\">> exit</code>\n",
    "</p>"
   ]
  },
  {
   "cell_type": "markdown",
   "metadata": {},
   "source": [
    "## <br><br>Exposing the Service  <a class=\"anchor\" id=\"service_exposingservice\"></a>"
   ]
  },
  {
   "cell_type": "markdown",
   "metadata": {},
   "source": [
    "Some parts of your applications you may want to expose a Service onto an external IP address \n",
    "\n",
    "* Kubernetes supports two way sof doing this\n",
    "    * NodePort \n",
    "    * LoadBalancer"
   ]
  },
  {
   "cell_type": "code",
   "execution_count": null,
   "metadata": {},
   "outputs": [],
   "source": [
    "!kubectl -n my-nginx get svc my-nginx"
   ]
  },
  {
   "cell_type": "markdown",
   "metadata": {},
   "source": [
    "* Currently the service does not have an external ip, so lets patch the Service to use a cloud load balancer, by updating the type of the my-nginx service from <b>ClusterIP</b> to <b>LoadBalancer</b>"
   ]
  },
  {
   "cell_type": "code",
   "execution_count": null,
   "metadata": {},
   "outputs": [],
   "source": [
    "!kubectl -n my-nginx patch svc my-nginx -p '{\"spec\": {\"type\": \"LoadBalancer\"}}'"
   ]
  },
  {
   "cell_type": "markdown",
   "metadata": {},
   "source": [
    "* We can check for the changes"
   ]
  },
  {
   "cell_type": "code",
   "execution_count": null,
   "metadata": {},
   "outputs": [],
   "source": [
    "!kubectl -n my-nginx get svc my-nginx"
   ]
  },
  {
   "cell_type": "markdown",
   "metadata": {},
   "source": [
    "* It can take a couple of minutes to become available in DNS"
   ]
  },
  {
   "cell_type": "code",
   "execution_count": null,
   "metadata": {},
   "outputs": [],
   "source": [
    "!kubectl -n my-nginx describe service my-nginx | grep Ingress"
   ]
  },
  {
   "cell_type": "code",
   "execution_count": null,
   "metadata": {},
   "outputs": [],
   "source": [
    "!curl a24b1542c379546ff9f466c6e2b598d5-1490478626.eu-west-1.elb.amazonaws.com"
   ]
  },
  {
   "cell_type": "markdown",
   "metadata": {},
   "source": [
    "## <br><br>Ingress  <a class=\"anchor\" id=\"service_ingress\"></a>"
   ]
  },
  {
   "cell_type": "markdown",
   "metadata": {},
   "source": [
    "Ingress was added in Kubernetes v1.1 and exposes HTTP and HTTPS routes from outside the cluster to services within the cluster. \n",
    "\n",
    "Traffic routing is controlled by rules defined on the ingress resource "
   ]
  },
  {
   "cell_type": "markdown",
   "metadata": {},
   "source": [
    "<p style=\"background:black\">\n",
    "<code style=\"background:black;color:white\">\n",
    "    internet\n",
    "       |\n",
    "  [ Ingress ]\n",
    "  --|-----|--\n",
    "  [ Services ]<br>\n",
    "</code>\n",
    "</p>\n",
    "\n"
   ]
  },
  {
   "cell_type": "markdown",
   "metadata": {},
   "source": [
    "<blockquote>Ingress can be configured to give services externally-reachable URLs, load balance traffic, terminal SSL, and offer name based virtual hosting. \n",
    "\n",
    "* An ingress controller is responsible for fulfilling the ingress, usually with a load balancer, though it may be also configure your edge router or additional frontends to help handle the traffic. \n",
    "* An ingress does not expose arbitrary ports or protocols. Exposing services other than HTTP and HTTPS to the internet typically uses a service of type NodePort or LoadBalancer \n",
    "* You must have an ingress controller to satisfy an ingress. Only creating an Ingress resource has no effect. \n",
    "\n",
    "You may need to deploy an Ingress controller such as AWS ALB Ingress Controller. You can choose from a number of Ingress Controllers\n",
    "\n",
    "Ideally, all ingress controllers should fit the reference specfication. In reality, the various ingress controllers operate slightly differently. "
   ]
  },
  {
   "cell_type": "markdown",
   "metadata": {},
   "source": [
    "### The Ingress Resource"
   ]
  },
  {
   "cell_type": "markdown",
   "metadata": {},
   "source": [
    "A minimal ingress resource example "
   ]
  },
  {
   "cell_type": "raw",
   "metadata": {},
   "source": [
    "apiVersion: extensions/v1beta1\n",
    "kind: Ingress\n",
    "metadata:\n",
    "  name: test-ingress\n",
    "  annotations:\n",
    "    nginx.ingress.kubernetes.io/rewrite-target: /\n",
    "spec:\n",
    "  rules:\n",
    "  - http:\n",
    "      paths:\n",
    "      - path: /testpath\n",
    "        backend:\n",
    "          serviceName: test\n",
    "          servicePort: 80"
   ]
  },
  {
   "cell_type": "markdown",
   "metadata": {},
   "source": [
    "<blockquote>As with all other Kubernetes resources, an ingress needs \n",
    "    * apiVersion\n",
    "    * kind\n",
    "    * metadata \n",
    "\n",
    "* The name of an Ingress object must be valid DNS subdomain name. \n",
    "\n",
    "Ingress frequently uses annotations to configure some options depending on the ingress controller, an example of which is the rewrite-target annotation. Different ingress controller support different annotations \n",
    "\n",
    "* The ingress spec has all the information needed to configure a load balancer or proxy server. Most importantly it contains a list of rules matched against all incoming requests. \n",
    "\n",
    "Ingress resource only supports rules for directing HTTP traffic. "
   ]
  },
  {
   "cell_type": "markdown",
   "metadata": {},
   "source": [
    "#### <br><br>Ingress rules "
   ]
  },
  {
   "cell_type": "markdown",
   "metadata": {},
   "source": [
    "<blockquote>Each http rule contains the following information \n",
    "\n",
    "* An optional host \n",
    "    * In this example no host is specified so the rule applies to all inbound HTTP traffic through the IP address specified. \n",
    "    * If a host is provided (i.e. foo.bar.com), the rules apply to that host <br><br>\n",
    "* A list of paths (for example, <b>/testpath</b>)\n",
    "    * each of which has an associated backend defined with a <b>serviceName</b> and <b>servicePort</b>. \n",
    "    * Both the host and path must match the content of an incoming request before the load balancer will direct traffic to the referenced service <br><br> \n",
    "* A backend\n",
    "    * combination of service and port names as described in the Services doc (https://kubernetes.io/docs/concepts/services-networking/service/) \n",
    "    * HTTP and HTTPS requests to the ingress matching the host and path of the rule will be sent to the listed backend\n",
    "    \n",
    "A default backend is often configured in an Ingress controller that will service any requests that do not match a path in the spec "
   ]
  },
  {
   "cell_type": "markdown",
   "metadata": {},
   "source": [
    "#### <br><br> Default Backend "
   ]
  },
  {
   "cell_type": "markdown",
   "metadata": {},
   "source": [
    "* An ingress with no rules sends all traffic to a single default backend. \n",
    "* The default backend is typically a configuraiton option of the Ingress Controller and is not specified in your ingress resources. \n",
    "* If none of the hosts or paths match the HTTP request in the Ingress objects, the traffic is routed to your default backend. "
   ]
  },
  {
   "cell_type": "markdown",
   "metadata": {},
   "source": [
    "## <br><br>Ingress Controller  <a class=\"anchor\" id=\"service_ingresscontroller\"></a>"
   ]
  },
  {
   "cell_type": "markdown",
   "metadata": {},
   "source": [
    "\n",
    "In order for ingress resource to work, the cluster must have an ingress controller running \n",
    "\n",
    "Unlike other types of controllers which run as part of the <b>kube-controller-manager</b> binary, Ingress controllers are not started automatically with a cluster"
   ]
  },
  {
   "cell_type": "markdown",
   "metadata": {},
   "source": [
    "#### <br><br>AWS ALB Ingress Controller"
   ]
  },
  {
   "cell_type": "markdown",
   "metadata": {},
   "source": [
    "* AWS ALB is a popular AWS service that load balances incoming traffic at the application layer (layer 7) across multiple targets such as EC2 in multiple AZ's \n",
    "* ALB supports multiple features including host or path based routing, TLS termination, WebSockets, HTTP/2, AWS WAF, Integrated access logs and health checks\n",
    "\n",
    "* The open source ALB Ingress controller triggers the creation of an ALB and the necessary supporting AWS resources whenever kubernetes user declares an ingress source in the cluste r\n",
    "* The Ingress resource users the ALB to route HTTP(S) traffic to different endpoints within the cluster\n",
    "* The AWS ALB ingress controller works on any Kubernetes cluster including EKS "
   ]
  },
  {
   "cell_type": "markdown",
   "metadata": {},
   "source": [
    "#### <br><br>Deploy AWS ALB Ingress Controller "
   ]
  },
  {
   "cell_type": "markdown",
   "metadata": {},
   "source": [
    "* Create an IAM OIDC provider and associate it with your cluster"
   ]
  },
  {
   "cell_type": "code",
   "execution_count": null,
   "metadata": {},
   "outputs": [],
   "source": [
    "!eksctl utils associate-iam-oidc-provider --cluster=eksworkshop-eksctl --approve"
   ]
  },
  {
   "cell_type": "markdown",
   "metadata": {},
   "source": [
    "* Deploy the relevant RBAC roles and role bindings as required by the AWS ALB ingress controller"
   ]
  },
  {
   "cell_type": "code",
   "execution_count": null,
   "metadata": {},
   "outputs": [],
   "source": [
    "!kubectl apply -f alb/rbac-role.yaml"
   ]
  },
  {
   "cell_type": "markdown",
   "metadata": {},
   "source": [
    "* Create an IAM policy named 'ALBIngressControllerIAMPolicy' to allow the ALB ingress controller to make AWS API calls on your behalf and save the Policy.Arn into a new variable called PolicyARN"
   ]
  },
  {
   "cell_type": "code",
   "execution_count": null,
   "metadata": {},
   "outputs": [],
   "source": [
    "!aws iam create-policy --policy-name ALBIngressControllerIAMPolicy --policy-document file://alb/iam-policy.json"
   ]
  },
  {
   "cell_type": "markdown",
   "metadata": {},
   "source": [
    "* Get the policy ARN"
   ]
  },
  {
   "cell_type": "code",
   "execution_count": null,
   "metadata": {},
   "outputs": [],
   "source": [
    "!aws iam list-policies --query 'Policies[?PolicyName==`ALBIngressControllerIAMPolicy`].Arn' --output text"
   ]
  },
  {
   "cell_type": "markdown",
   "metadata": {},
   "source": [
    "* Create a variable with the ARN"
   ]
  },
  {
   "cell_type": "code",
   "execution_count": null,
   "metadata": {},
   "outputs": [],
   "source": [
    "%env PolicyARN=arn:aws:iam::133150622354:policy/ALBIngressControllerIAMPolicy"
   ]
  },
  {
   "cell_type": "markdown",
   "metadata": {},
   "source": [
    "* Create a kubernetes service account and an IAM role (for the pod running the AWS ALB Ingress controller)"
   ]
  },
  {
   "cell_type": "code",
   "execution_count": null,
   "metadata": {},
   "outputs": [],
   "source": [
    "%%bash\n",
    "\n",
    "eksctl create iamserviceaccount \\\n",
    "        --cluster=eksworkshop-eksctl \\\n",
    "        --namespace=kube-system \\\n",
    "        --name=alb-ingress-controller \\\n",
    "        --attach-policy-arn=$PolicyARN \\\n",
    "        --override-existing-serviceaccounts \\\n",
    "        --approve"
   ]
  },
  {
   "cell_type": "markdown",
   "metadata": {},
   "source": [
    "* Deploy the AWS ALB Ingress Controller"
   ]
  },
  {
   "cell_type": "code",
   "execution_count": null,
   "metadata": {},
   "outputs": [],
   "source": [
    "!kubectl apply -f alb/alb-ingress-controller.yaml"
   ]
  },
  {
   "cell_type": "markdown",
   "metadata": {},
   "source": [
    "* You must have the following on your subnets\n",
    "\n",
    "    * Key: kubernetes.io/role/elb value: 1\n",
    "    * Key: kubernetes.io/cluster/eksworkshop-eksctl value:shared\n",
    "    \n",
    "* Verify the deployment was successful and the controller started\n",
    "* If you have other subnets with the same EKS cluster name tagged, it will be picked up and could error\n",
    "* If you get any issues at this point, you can configure alb/alb-ingress-controller.yaml "
   ]
  },
  {
   "cell_type": "code",
   "execution_count": null,
   "metadata": {},
   "outputs": [],
   "source": [
    "!kubectl logs -n kube-system $(kubectl get po -n kube-system | egrep -o alb-ingress[a-zA-Z0-9-]+)"
   ]
  },
  {
   "cell_type": "markdown",
   "metadata": {},
   "source": [
    "#### <br><br>Deploy Sample Application "
   ]
  },
  {
   "cell_type": "markdown",
   "metadata": {},
   "source": [
    "* Deploying a sample '2048 game' into our kubernetes cluster and use the Ingress resource to expose it to traffic "
   ]
  },
  {
   "cell_type": "code",
   "execution_count": null,
   "metadata": {},
   "outputs": [],
   "source": [
    "!kubectl apply -f alb/2048/namespace.yaml\n",
    "!kubectl apply -f alb/2048/deployment.yaml\n",
    "!kubectl apply -f alb/2048/service.yaml"
   ]
  },
  {
   "cell_type": "markdown",
   "metadata": {},
   "source": [
    "* Deploy an ingress resource for the 2048 game "
   ]
  },
  {
   "cell_type": "code",
   "execution_count": null,
   "metadata": {},
   "outputs": [],
   "source": [
    "!kubectl apply -f alb/2048/ingress.yaml"
   ]
  },
  {
   "cell_type": "markdown",
   "metadata": {},
   "source": [
    "* Verify that the ingress resource is enabled"
   ]
  },
  {
   "cell_type": "code",
   "execution_count": null,
   "metadata": {},
   "outputs": [],
   "source": [
    "!kubectl get ingress/2048-ingress -n 2048-game"
   ]
  },
  {
   "cell_type": "markdown",
   "metadata": {},
   "source": [
    "* Wait a few minutes for the application to be ready and you should be able to play the game"
   ]
  },
  {
   "cell_type": "markdown",
   "metadata": {},
   "source": [
    "<br><br><center><img src=\"https://www.eksworkshop.com/images/fargate/Browser.png\" width=\"20%\" height=\"20%\"/>"
   ]
  },
  {
   "cell_type": "markdown",
   "metadata": {},
   "source": [
    "## <br><br>Clean Up"
   ]
  },
  {
   "cell_type": "code",
   "execution_count": null,
   "metadata": {},
   "outputs": [],
   "source": [
    "!kubectl delete -f services/run-my-nginx.yaml\n",
    "!kubectl delete ns my-nginx"
   ]
  },
  {
   "cell_type": "code",
   "execution_count": null,
   "metadata": {},
   "outputs": [],
   "source": [
    "!kubectl delete -f alb/2048/deployment.yaml\n",
    "!kubectl delete -f alb/2048/service.yaml\n",
    "!kubectl delete -f alb/2048/ingress.yaml\n",
    "!kubectl delete -f alb/2048/namespace.yaml\n",
    "!kubectl delete -f alb/rbac-role.yaml"
   ]
  },
  {
   "cell_type": "code",
   "execution_count": null,
   "metadata": {},
   "outputs": [],
   "source": [
    "!kubectl delete -f alb/alb-ingress-controller.yaml "
   ]
  },
  {
   "cell_type": "code",
   "execution_count": null,
   "metadata": {},
   "outputs": [],
   "source": [
    "%%bash \n",
    "\n",
    "eksctl delete iamserviceaccount \\\n",
    "    --cluster eksworkshop-eksctl \\\n",
    "    --name alb-ingress-controller \\\n",
    "    --namespace kube-system \\\n",
    "    --wait\n",
    "\n",
    "aws iam delete-policy --policy-arn $PolicyARN"
   ]
  },
  {
   "cell_type": "code",
   "execution_count": null,
   "metadata": {},
   "outputs": [],
   "source": []
  }
 ],
 "metadata": {
  "kernelspec": {
   "display_name": "Python 3",
   "language": "python",
   "name": "python3"
  },
  "language_info": {
   "codemirror_mode": {
    "name": "ipython",
    "version": 3
   },
   "file_extension": ".py",
   "mimetype": "text/x-python",
   "name": "python",
   "nbconvert_exporter": "python",
   "pygments_lexer": "ipython3",
   "version": "3.8.3"
  }
 },
 "nbformat": 4,
 "nbformat_minor": 4
}
